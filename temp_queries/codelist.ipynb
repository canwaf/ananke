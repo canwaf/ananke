{
    "cells": [
        {
            "cell_type": "code",
            "execution_count": 1,
            "source": [
                "%endpoint https://staging.gss-data.org.uk/sparql\n",
                "%format any\n",
                "%display table"
            ],
            "outputs": [
                {
                    "output_type": "display_data",
                    "data": {
                        "text/plain": [
                            "Endpoint set to: https://staging.gss-data.org.uk/sparql\n",
                            "Request format: ANY\n",
                            "Display: table\n"
                        ],
                        "text/html": [
                            "<div class=\"krn-spql\"><div class=\"magic\">Endpoint set to: https://staging.gss-data.org.uk/sparql</div><div class=\"magic\">Request format: ANY</div><div class=\"magic\">Display: table</div></div>"
                        ]
                    },
                    "metadata": {}
                }
            ],
            "metadata": {}
        },
        {
            "cell_type": "code",
            "execution_count": 2,
            "source": [
                "PREFIX qb: <http://purl.org/linked-data/cube#>\n",
                "PREFIX rdf: <http://www.w3.org/1999/02/22-rdf-syntax-ns#>\n",
                "PREFIX rdfs: <http://www.w3.org/2000/01/rdf-schema#>\n",
                "PREFIX skos: <http://www.w3.org/2004/02/skos/core#>\n",
                "SELECT ?DataSet ?CodeList\n",
                "WHERE {\n",
                "    ?CodeList a skos:ConceptScheme.\n",
                "    ?DataSet a qb:DataSet ;\n",
                "        qb:structure/qb:component/qb:dimension/qb:codeList ?CodeList.\n",
                "}\n",
                "LIMIT 10"
            ],
            "outputs": [
                {
                    "output_type": "display_data",
                    "data": {
                        "text/html": [
                            "<div class=\"krn-spql\"><table><tr class=hdr><th>DataSet</th>\n",
                            "<th>CodeList</th></tr><tr class=odd><td class=val><a href=\"http://gss-data.org.uk/data/gss_data/covid-19/ho-statistics-relating-to-covid-19-and-the-immigration-system-may-2020#dataset\" target=\"_other\">http://gss-data.org.uk/data/gss_data/covid-19/ho-statistics-relating-to-covid-19-and-the-immigration-system-may-2020#dataset</a></td>\n",
                            "<td class=val><a href=\"http://gss-data.org.uk/data/gss_data/covid-19/ho-statistics-relating-to-covid-19-and-the-immigration-system-may-2020#scheme/air-arrivals\" target=\"_other\">http://gss-data.org.uk/data/gss_data/covid-19/ho-statistics-relating-to-covid-19-and-the-immigration-system-may-2020#scheme/air-arrivals</a></td></tr><tr class=even><td class=val><a href=\"http://gss-data.org.uk/data/gss_data/covid-19/nrs-deaths-involving-coronavirus-covid-19-in-scotland#dataset\" target=\"_other\">http://gss-data.org.uk/data/gss_data/covid-19/nrs-deaths-involving-coronavirus-covid-19-in-scotland#dataset</a></td>\n",
                            "<td class=val><a href=\"http://purl.org/linked-data/sdmx/2009/code#sex\" target=\"_other\">http://purl.org/linked-data/sdmx/2009/code#sex</a></td></tr><tr class=odd><td class=val><a href=\"http://gss-data.org.uk/data/gss_data/covid-19/ons-deaths-involving-covid-19-in-the-care-sector-england-and-wales-deaths-occurring-up-to-1-may-2020-and-registered-up-to-9-may-2020-provisional#dataset\" target=\"_other\">http://gss-data.org.uk/data/gss_data/covid-19/ons-deaths-involving-covid-19-in-the-care-sector-england-and-wales-deaths-occurring-up-to-1-may-2020-and-registered-up-to-9-may-2020-provisional#dataset</a></td>\n",
                            "<td class=val><a href=\"http://purl.org/linked-data/sdmx/2009/code#sex\" target=\"_other\">http://purl.org/linked-data/sdmx/2009/code#sex</a></td></tr><tr class=even><td class=val><a href=\"http://gss-data.org.uk/data/gss_data/towns-high-streets/ons-population-estimates-by-output-areas-electoral-health-and-other-geographies-england-and-wales#dataset\" target=\"_other\">http://gss-data.org.uk/data/gss_data/towns-high-streets/ons-population-estimates-by-output-areas-electoral-health-and-other-geographies-england-and-wales#dataset</a></td>\n",
                            "<td class=val><a href=\"http://purl.org/linked-data/sdmx/2009/code#sex\" target=\"_other\">http://purl.org/linked-data/sdmx/2009/code#sex</a></td></tr><tr class=odd><td class=val><a href=\"http://gss-data.org.uk/data/gss_data/towns-high-streets/nhs-d-patients-registered-at-a-gp-practice/gp#dataset\" target=\"_other\">http://gss-data.org.uk/data/gss_data/towns-high-streets/nhs-d-patients-registered-at-a-gp-practice/gp#dataset</a></td>\n",
                            "<td class=val><a href=\"http://purl.org/linked-data/sdmx/2009/code#sex\" target=\"_other\">http://purl.org/linked-data/sdmx/2009/code#sex</a></td></tr><tr class=even><td class=val><a href=\"http://gss-data.org.uk/data/gss_data/towns-high-streets/nhs-d-patients-registered-at-a-gp-practice/org#dataset\" target=\"_other\">http://gss-data.org.uk/data/gss_data/towns-high-streets/nhs-d-patients-registered-at-a-gp-practice/org#dataset</a></td>\n",
                            "<td class=val><a href=\"http://purl.org/linked-data/sdmx/2009/code#sex\" target=\"_other\">http://purl.org/linked-data/sdmx/2009/code#sex</a></td></tr><tr class=odd><td class=val><a href=\"http://gss-data.org.uk/data/gss_data/towns-high-streets/nhs-d-patients-registered-at-a-gp-practice/pcn#dataset\" target=\"_other\">http://gss-data.org.uk/data/gss_data/towns-high-streets/nhs-d-patients-registered-at-a-gp-practice/pcn#dataset</a></td>\n",
                            "<td class=val><a href=\"http://purl.org/linked-data/sdmx/2009/code#sex\" target=\"_other\">http://purl.org/linked-data/sdmx/2009/code#sex</a></td></tr><tr class=even><td class=val><a href=\"http://gss-data.org.uk/data/gss_data/towns-high-streets/hmrc-child-benefit-small-area-data/children#dataset\" target=\"_other\">http://gss-data.org.uk/data/gss_data/towns-high-streets/hmrc-child-benefit-small-area-data/children#dataset</a></td>\n",
                            "<td class=val><a href=\"http://purl.org/linked-data/sdmx/2009/code#sex\" target=\"_other\">http://purl.org/linked-data/sdmx/2009/code#sex</a></td></tr><tr class=odd><td class=val><a href=\"http://gss-data.org.uk/data/gss_data/covid-19/nisra-weekly-deaths-year-ni/registrations#dataset\" target=\"_other\">http://gss-data.org.uk/data/gss_data/covid-19/nisra-weekly-deaths-year-ni/registrations#dataset</a></td>\n",
                            "<td class=val><a href=\"http://purl.org/linked-data/sdmx/2009/code#sex\" target=\"_other\">http://purl.org/linked-data/sdmx/2009/code#sex</a></td></tr><tr class=even><td class=val><a href=\"http://gss-data.org.uk/data/gss_data/covid-19/nrs-deaths-involving-coronavirus-covid-19-in-scotland#dataset\" target=\"_other\">http://gss-data.org.uk/data/gss_data/covid-19/nrs-deaths-involving-coronavirus-covid-19-in-scotland#dataset</a></td>\n",
                            "<td class=val><a href=\"http://gss-data.org.uk/data/gss_data/covid-19/nrs-deaths-involving-coronavirus-covid-19-in-scotland#scheme/location-of-death\" target=\"_other\">http://gss-data.org.uk/data/gss_data/covid-19/nrs-deaths-involving-coronavirus-covid-19-in-scotland#scheme/location-of-death</a></td></tr></table><div class=\"tinfo\">Total: 10, Shown: 10</div></div>"
                        ]
                    },
                    "metadata": {}
                }
            ],
            "metadata": {}
        },
        {
            "cell_type": "code",
            "execution_count": 3,
            "source": [
                "DESCRIBE <http://purl.org/linked-data/sdmx/2009/code#sex>"
            ],
            "outputs": [
                {
                    "output_type": "display_data",
                    "data": {
                        "text/html": [
                            "<div class=\"krn-spql\"><table><tr class=hdr><th>subject</th>\n",
                            "<th>predicate</th>\n",
                            "<th>object</th></tr><tr class=odd><td class=val><a href=\"http://purl.org/linked-data/sdmx/2009/code#sex\" target=\"_other\">http://purl.org/linked-data/sdmx/2009/code#sex</a></td>\n",
                            "<td class=val><a href=\"http://www.w3.org/1999/02/22-rdf-syntax-ns#type\" target=\"_other\">http://www.w3.org/1999/02/22-rdf-syntax-ns#type</a></td>\n",
                            "<td class=val><a href=\"http://publishmydata.com/pmdcat#ConceptScheme\" target=\"_other\">http://publishmydata.com/pmdcat#ConceptScheme</a></td></tr><tr class=even><td class=val><a href=\"http://purl.org/linked-data/sdmx/2009/code#sex\" target=\"_other\">http://purl.org/linked-data/sdmx/2009/code#sex</a></td>\n",
                            "<td class=val><a href=\"http://www.w3.org/1999/02/22-rdf-syntax-ns#type\" target=\"_other\">http://www.w3.org/1999/02/22-rdf-syntax-ns#type</a></td>\n",
                            "<td class=val><a href=\"http://www.w3.org/2004/02/skos/core#ConceptScheme\" target=\"_other\">http://www.w3.org/2004/02/skos/core#ConceptScheme</a></td></tr><tr class=odd><td class=val><a href=\"http://purl.org/linked-data/sdmx/2009/code#sex\" target=\"_other\">http://purl.org/linked-data/sdmx/2009/code#sex</a></td>\n",
                            "<td class=val><a href=\"http://www.w3.org/2004/02/skos/core#hasTopConcept\" target=\"_other\">http://www.w3.org/2004/02/skos/core#hasTopConcept</a></td>\n",
                            "<td class=val><a href=\"http://purl.org/linked-data/sdmx/2009/code#sex-U\" target=\"_other\">http://purl.org/linked-data/sdmx/2009/code#sex-U</a></td></tr><tr class=even><td class=val><a href=\"http://purl.org/linked-data/sdmx/2009/code#sex\" target=\"_other\">http://purl.org/linked-data/sdmx/2009/code#sex</a></td>\n",
                            "<td class=val><a href=\"http://www.w3.org/2004/02/skos/core#definition\" target=\"_other\">http://www.w3.org/2004/02/skos/core#definition</a></td>\n",
                            "<td class=val><a href=\"http://sdmx.org/wp-content/uploads/2009/01/02_sdmx_cog_annex_2_cl_2009.pdf\" target=\"_other\">http://sdmx.org/wp-content/uploads/2009/01/02_sdmx_cog_annex_2_cl_2009.pdf</a></td></tr><tr class=odd><td class=val><a href=\"http://purl.org/linked-data/sdmx/2009/code#sex\" target=\"_other\">http://purl.org/linked-data/sdmx/2009/code#sex</a></td>\n",
                            "<td class=val><a href=\"http://www.w3.org/2004/02/skos/core#prefLabel\" target=\"_other\">http://www.w3.org/2004/02/skos/core#prefLabel</a></td>\n",
                            "<td class=val>Code list for Sex (SEX) - codelist scheme</td></tr><tr class=even><td class=val><a href=\"http://purl.org/linked-data/sdmx/2009/code#sex\" target=\"_other\">http://purl.org/linked-data/sdmx/2009/code#sex</a></td>\n",
                            "<td class=val><a href=\"http://www.w3.org/2004/02/skos/core#hasTopConcept\" target=\"_other\">http://www.w3.org/2004/02/skos/core#hasTopConcept</a></td>\n",
                            "<td class=val><a href=\"http://purl.org/linked-data/sdmx/2009/code#sex-F\" target=\"_other\">http://purl.org/linked-data/sdmx/2009/code#sex-F</a></td></tr><tr class=odd><td class=val><a href=\"http://purl.org/linked-data/sdmx/2009/code#sex\" target=\"_other\">http://purl.org/linked-data/sdmx/2009/code#sex</a></td>\n",
                            "<td class=val><a href=\"http://www.w3.org/2004/02/skos/core#hasTopConcept\" target=\"_other\">http://www.w3.org/2004/02/skos/core#hasTopConcept</a></td>\n",
                            "<td class=val><a href=\"http://purl.org/linked-data/sdmx/2009/code#sex-M\" target=\"_other\">http://purl.org/linked-data/sdmx/2009/code#sex-M</a></td></tr><tr class=even><td class=val><a href=\"http://purl.org/linked-data/sdmx/2009/code#sex\" target=\"_other\">http://purl.org/linked-data/sdmx/2009/code#sex</a></td>\n",
                            "<td class=val><a href=\"http://www.w3.org/2004/02/skos/core#notation\" target=\"_other\">http://www.w3.org/2004/02/skos/core#notation</a></td>\n",
                            "<td class=val>CL_SEX</td></tr><tr class=odd><td class=val><a href=\"http://purl.org/linked-data/sdmx/2009/code#sex\" target=\"_other\">http://purl.org/linked-data/sdmx/2009/code#sex</a></td>\n",
                            "<td class=val><a href=\"http://www.w3.org/2004/02/skos/core#hasTopConcept\" target=\"_other\">http://www.w3.org/2004/02/skos/core#hasTopConcept</a></td>\n",
                            "<td class=val><a href=\"http://purl.org/linked-data/sdmx/2009/code#sex-N\" target=\"_other\">http://purl.org/linked-data/sdmx/2009/code#sex-N</a></td></tr><tr class=even><td class=val><a href=\"http://purl.org/linked-data/sdmx/2009/code#sex\" target=\"_other\">http://purl.org/linked-data/sdmx/2009/code#sex</a></td>\n",
                            "<td class=val><a href=\"http://www.w3.org/2000/01/rdf-schema#label\" target=\"_other\">http://www.w3.org/2000/01/rdf-schema#label</a></td>\n",
                            "<td class=val>Code list for Sex (SEX) - codelist scheme</td></tr><tr class=odd><td class=val><a href=\"http://purl.org/linked-data/sdmx/2009/code#sex\" target=\"_other\">http://purl.org/linked-data/sdmx/2009/code#sex</a></td>\n",
                            "<td class=val><a href=\"http://www.w3.org/2004/02/skos/core#hasTopConcept\" target=\"_other\">http://www.w3.org/2004/02/skos/core#hasTopConcept</a></td>\n",
                            "<td class=val><a href=\"http://purl.org/linked-data/sdmx/2009/code#sex-T\" target=\"_other\">http://purl.org/linked-data/sdmx/2009/code#sex-T</a></td></tr><tr class=even><td class=val><a href=\"http://purl.org/linked-data/sdmx/2009/code#sex\" target=\"_other\">http://purl.org/linked-data/sdmx/2009/code#sex</a></td>\n",
                            "<td class=val><a href=\"http://www.w3.org/2004/02/skos/core#note\" target=\"_other\">http://www.w3.org/2004/02/skos/core#note</a></td>\n",
                            "<td class=val>This  code list provides the gender.</td></tr><tr class=odd><td class=val><a href=\"http://purl.org/linked-data/sdmx/2009/code#sex\" target=\"_other\">http://purl.org/linked-data/sdmx/2009/code#sex</a></td>\n",
                            "<td class=val><a href=\"http://www.w3.org/1999/02/22-rdf-syntax-ns#type\" target=\"_other\">http://www.w3.org/1999/02/22-rdf-syntax-ns#type</a></td>\n",
                            "<td class=val><a href=\"http://purl.org/linked-data/sdmx#CodeList\" target=\"_other\">http://purl.org/linked-data/sdmx#CodeList</a></td></tr><tr class=even><td class=val><a href=\"http://purl.org/linked-data/sdmx/2009/code#sex\" target=\"_other\">http://purl.org/linked-data/sdmx/2009/code#sex</a></td>\n",
                            "<td class=val><a href=\"http://www.w3.org/2000/01/rdf-schema#seeAlso\" target=\"_other\">http://www.w3.org/2000/01/rdf-schema#seeAlso</a></td>\n",
                            "<td class=val><a href=\"http://purl.org/linked-data/sdmx/2009/code#Sex\" target=\"_other\">http://purl.org/linked-data/sdmx/2009/code#Sex</a></td></tr></table><div class=\"tinfo\">Shown: 14, Total rows: 14</div></div>"
                        ]
                    },
                    "metadata": {}
                }
            ],
            "metadata": {}
        },
        {
            "cell_type": "code",
            "execution_count": null,
            "source": [],
            "outputs": [],
            "metadata": {}
        },
        {
            "cell_type": "code",
            "execution_count": 4,
            "source": [
                "DESCRIBE <http://gss-data.org.uk/data/gss_data/covid-19/ho-statistics-relating-to-covid-19-and-the-immigration-system-may-2020#scheme/air-arrivals>"
            ],
            "outputs": [
                {
                    "output_type": "display_data",
                    "data": {
                        "text/html": [
                            "<div class=\"krn-spql\"><table><tr class=hdr><th>subject</th>\n",
                            "<th>predicate</th>\n",
                            "<th>object</th></tr><tr class=odd><td class=val><a href=\"http://gss-data.org.uk/data/gss_data/covid-19/ho-statistics-relating-to-covid-19-and-the-immigration-system-may-2020#scheme/air-arrivals\" target=\"_other\">http://gss-data.org.uk/data/gss_data/covid-19/ho-statistics-relating-to-covid-19-and-the-immigration-system-may-2020#scheme/air-arrivals</a></td>\n",
                            "<td class=val><a href=\"http://www.w3.org/2000/01/rdf-schema#label\" target=\"_other\">http://www.w3.org/2000/01/rdf-schema#label</a></td>\n",
                            "<td class=val>Air Arrivals</td></tr><tr class=even><td class=val><a href=\"http://gss-data.org.uk/data/gss_data/covid-19/ho-statistics-relating-to-covid-19-and-the-immigration-system-may-2020#scheme/air-arrivals\" target=\"_other\">http://gss-data.org.uk/data/gss_data/covid-19/ho-statistics-relating-to-covid-19-and-the-immigration-system-may-2020#scheme/air-arrivals</a></td>\n",
                            "<td class=val><a href=\"http://www.w3.org/2004/02/skos/core#hasTopConcept\" target=\"_other\">http://www.w3.org/2004/02/skos/core#hasTopConcept</a></td>\n",
                            "<td class=val>http://gss-data.org.uk/data/gss_data/covid-19/ho-statistics-relating-to-covid-19-and-the-immigration-system-may-2020#concept/air-arrivals/all</td></tr><tr class=odd><td class=val><a href=\"http://gss-data.org.uk/data/gss_data/covid-19/ho-statistics-relating-to-covid-19-and-the-immigration-system-may-2020#scheme/air-arrivals\" target=\"_other\">http://gss-data.org.uk/data/gss_data/covid-19/ho-statistics-relating-to-covid-19-and-the-immigration-system-may-2020#scheme/air-arrivals</a></td>\n",
                            "<td class=val><a href=\"http://www.w3.org/1999/02/22-rdf-syntax-ns#type\" target=\"_other\">http://www.w3.org/1999/02/22-rdf-syntax-ns#type</a></td>\n",
                            "<td class=val><a href=\"http://www.w3.org/2004/02/skos/core#ConceptScheme\" target=\"_other\">http://www.w3.org/2004/02/skos/core#ConceptScheme</a></td></tr></table><div class=\"tinfo\">Shown: 3, Total rows: 3</div></div>"
                        ]
                    },
                    "metadata": {}
                }
            ],
            "metadata": {}
        },
        {
            "cell_type": "code",
            "execution_count": 5,
            "source": [
                "DESCRIBE <http://gss-data.org.uk/data/gss_data/covid-19/ho-statistics-relating-to-covid-19-and-the-immigration-system-may-2020#concept/air-arrivals/all>"
            ],
            "outputs": [
                {
                    "output_type": "display_data",
                    "data": {
                        "text/html": [
                            "<div class=\"krn-spql\"><table><tr class=hdr><th>subject</th>\n",
                            "<th>predicate</th>\n",
                            "<th>object</th></tr></table><div class=\"tinfo\">Shown: 0, Total rows: 0</div></div>"
                        ]
                    },
                    "metadata": {}
                }
            ],
            "metadata": {}
        }
    ],
    "metadata": {
        "orig_nbformat": 4,
        "language_info": {
            "name": "sparql"
        }
    },
    "nbformat": 4,
    "nbformat_minor": 2
}