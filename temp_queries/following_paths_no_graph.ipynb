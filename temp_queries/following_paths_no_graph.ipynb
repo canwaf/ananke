{
 "cells": [
  {
   "cell_type": "code",
   "execution_count": 2,
   "metadata": {},
   "outputs": [
    {
     "data": {
      "text/html": [
       "<div class=\"krn-spql\"><div class=\"magic\">Endpoint set to: https://staging.gss-data.org.uk/sparql</div><div class=\"magic\">Request format: ANY</div><div class=\"magic\">Display: table</div></div>"
      ],
      "text/plain": [
       "Endpoint set to: https://staging.gss-data.org.uk/sparql\n",
       "Request format: ANY\n",
       "Display: table\n"
      ]
     },
     "metadata": {},
     "output_type": "display_data"
    }
   ],
   "source": [
    "%endpoint https://staging.gss-data.org.uk/sparql\n",
    "%format any\n",
    "%display table"
   ]
  },
  {
   "cell_type": "code",
   "execution_count": 3,
   "metadata": {},
   "outputs": [
    {
     "data": {
      "text/html": [
       "<div class=\"krn-spql\"><table><tr class=hdr><th>label</th></tr><tr class=odd><td class=val>Species Group</td></tr></table><div class=\"tinfo\">Total: 1, Shown: 1</div></div>"
      ]
     },
     "metadata": {},
     "output_type": "display_data"
    }
   ],
   "source": [
    "# Get the label\n",
    "PREFIX dcat: <http://www.w3.org/ns/dcat#>\n",
    "PREFIX dcterms: <http://purl.org/dc/terms/>\n",
    "PREFIX owl: <http://www.w3.org/2002/07/owl#>\n",
    "PREFIX qb: <http://purl.org/linked-data/cube#>\n",
    "PREFIX rdf: <http://www.w3.org/1999/02/22-rdf-syntax-ns#>\n",
    "PREFIX rdfs: <http://www.w3.org/2000/01/rdf-schema#>\n",
    "PREFIX skos: <http://www.w3.org/2004/02/skos/core#>\n",
    "PREFIX void: <http://rdfs.org/ns/void#>\n",
    "PREFIX xsd: <http://www.w3.org/2001/XMLSchema#>\n",
    "\n",
    "SELECT ?label\n",
    "WHERE {\n",
    "    BIND(<http://gss-data.org.uk/graph/gss_data/covid-19/mmo-ad-hoc-statistical-release-uk-sea-fisheries-statistics> as ?graphUrl) .\n",
    "    GRAPH  ?graphUrl {\n",
    "        <http://gss-data.org.uk/data/gss_data/covid-19/mmo-ad-hoc-statistical-release-uk-sea-fisheries-statistics#dimension/species-group> rdfs:label ?label\n",
    "    }\n",
    "\n",
    "}"
   ]
  },
  {
   "cell_type": "code",
   "execution_count": 4,
   "metadata": {},
   "outputs": [
    {
     "data": {
      "text/html": [
       "<div class=\"krn-spql\"><table><tr class=hdr><th>graphUrl</th>\n",
       "<th>component</th>\n",
       "<th>kind</th>\n",
       "<th>definition</th>\n",
       "<th>propertyParent</th></tr><tr class=odd><td class=val><a href=\"http://gss-data.org.uk/graph/gss_data/covid-19/nrs-deaths-involving-coronavirus-covid-19-in-scotland\" target=\"_other\">http://gss-data.org.uk/graph/gss_data/covid-19/nrs-deaths-involving-coronavirus-covid-19-in-scotland</a></td>\n",
       "<td class=val><a href=\"http://gss-data.org.uk/data/gss_data/covid-19/nrs-deaths-involving-coronavirus-covid-19-in-scotland#component/council-area\" target=\"_other\">http://gss-data.org.uk/data/gss_data/covid-19/nrs-deaths-involving-coronavirus-covid-19-in-scotland#component/council-area</a></td>\n",
       "<td class=val><a href=\"http://purl.org/linked-data/cube#DimensionProperty\" target=\"_other\">http://purl.org/linked-data/cube#DimensionProperty</a></td>\n",
       "<td class=val><a href=\"http://gss-data.org.uk/data/gss_data/covid-19/nrs-deaths-involving-coronavirus-covid-19-in-scotland#dimension/council-area\" target=\"_other\">http://gss-data.org.uk/data/gss_data/covid-19/nrs-deaths-involving-coronavirus-covid-19-in-scotland#dimension/council-area</a></td>\n",
       "<td class=val><a href=\"http://purl.org/linked-data/sdmx/2009/dimension#refArea\" target=\"_other\">http://purl.org/linked-data/sdmx/2009/dimension#refArea</a></td></tr><tr class=even><td class=val><a href=\"http://gss-data.org.uk/graph/gss_data/covid-19/nrs-deaths-involving-coronavirus-covid-19-in-scotland\" target=\"_other\">http://gss-data.org.uk/graph/gss_data/covid-19/nrs-deaths-involving-coronavirus-covid-19-in-scotland</a></td>\n",
       "<td class=val><a href=\"http://gss-data.org.uk/data/gss_data/covid-19/nrs-deaths-involving-coronavirus-covid-19-in-scotland#component/nhs-board\" target=\"_other\">http://gss-data.org.uk/data/gss_data/covid-19/nrs-deaths-involving-coronavirus-covid-19-in-scotland#component/nhs-board</a></td>\n",
       "<td class=val><a href=\"http://purl.org/linked-data/cube#DimensionProperty\" target=\"_other\">http://purl.org/linked-data/cube#DimensionProperty</a></td>\n",
       "<td class=val><a href=\"http://gss-data.org.uk/data/gss_data/covid-19/nrs-deaths-involving-coronavirus-covid-19-in-scotland#dimension/nhs-board\" target=\"_other\">http://gss-data.org.uk/data/gss_data/covid-19/nrs-deaths-involving-coronavirus-covid-19-in-scotland#dimension/nhs-board</a></td>\n",
       "<td class=val><a href=\"http://purl.org/linked-data/sdmx/2009/dimension#refArea\" target=\"_other\">http://purl.org/linked-data/sdmx/2009/dimension#refArea</a></td></tr><tr class=odd><td class=val><a href=\"http://gss-data.org.uk/graph/gss_data/covid-19/wg-notifications-of-deaths-of-residents-related-to-covid-19-in-adult-care-homes\" target=\"_other\">http://gss-data.org.uk/graph/gss_data/covid-19/wg-notifications-of-deaths-of-residents-related-to-covid-19-in-adult-care-homes</a></td>\n",
       "<td class=val><a href=\"http://gss-data.org.uk/data/gss_data/covid-19/wg-notifications-of-deaths-of-residents-related-to-covid-19-in-adult-care-homes#component/area-code\" target=\"_other\">http://gss-data.org.uk/data/gss_data/covid-19/wg-notifications-of-deaths-of-residents-related-to-covid-19-in-adult-care-homes#component/area-code</a></td>\n",
       "<td class=val><a href=\"http://purl.org/linked-data/cube#DimensionProperty\" target=\"_other\">http://purl.org/linked-data/cube#DimensionProperty</a></td>\n",
       "<td class=val><a href=\"http://gss-data.org.uk/data/gss_data/covid-19/wg-notifications-of-deaths-of-residents-related-to-covid-19-in-adult-care-homes#dimension/area-code\" target=\"_other\">http://gss-data.org.uk/data/gss_data/covid-19/wg-notifications-of-deaths-of-residents-related-to-covid-19-in-adult-care-homes#dimension/area-code</a></td>\n",
       "<td class=val><a href=\"http://purl.org/linked-data/sdmx/2009/dimension#refArea\" target=\"_other\">http://purl.org/linked-data/sdmx/2009/dimension#refArea</a></td></tr><tr class=even><td class=val><a href=\"http://gss-data.org.uk/graph/gss_data/covid-19/wg-notifications-of-deaths-of-residents-related-to-covid-19-in-adult-care-homes\" target=\"_other\">http://gss-data.org.uk/graph/gss_data/covid-19/wg-notifications-of-deaths-of-residents-related-to-covid-19-in-adult-care-homes</a></td>\n",
       "<td class=val><a href=\"http://gss-data.org.uk/data/gss_data/covid-19/wg-notifications-of-deaths-of-residents-related-to-covid-19-in-adult-care-homes#component/notification-date\" target=\"_other\">http://gss-data.org.uk/data/gss_data/covid-19/wg-notifications-of-deaths-of-residents-related-to-covid-19-in-adult-care-homes#component/notification-date</a></td>\n",
       "<td class=val><a href=\"http://purl.org/linked-data/cube#DimensionProperty\" target=\"_other\">http://purl.org/linked-data/cube#DimensionProperty</a></td>\n",
       "<td class=val><a href=\"http://gss-data.org.uk/data/gss_data/covid-19/wg-notifications-of-deaths-of-residents-related-to-covid-19-in-adult-care-homes#dimension/notification-date\" target=\"_other\">http://gss-data.org.uk/data/gss_data/covid-19/wg-notifications-of-deaths-of-residents-related-to-covid-19-in-adult-care-homes#dimension/notification-date</a></td>\n",
       "<td class=val><a href=\"http://purl.org/linked-data/sdmx/2009/dimension#refPeriod\" target=\"_other\">http://purl.org/linked-data/sdmx/2009/dimension#refPeriod</a></td></tr><tr class=odd><td class=val><a href=\"http://gss-data.org.uk/graph/gss_data/covid-19/ons-number-of-deaths-in-care-homes-notified-to-the-care-quality-commission-england\" target=\"_other\">http://gss-data.org.uk/graph/gss_data/covid-19/ons-number-of-deaths-in-care-homes-notified-to-the-care-quality-commission-england</a></td>\n",
       "<td class=val><a href=\"http://gss-data.org.uk/data/gss_data/covid-19/ons-number-of-deaths-in-care-homes-notified-to-the-care-quality-commission-england#component/local-authority\" target=\"_other\">http://gss-data.org.uk/data/gss_data/covid-19/ons-number-of-deaths-in-care-homes-notified-to-the-care-quality-commission-england#component/local-authority</a></td>\n",
       "<td class=val><a href=\"http://purl.org/linked-data/cube#DimensionProperty\" target=\"_other\">http://purl.org/linked-data/cube#DimensionProperty</a></td>\n",
       "<td class=val><a href=\"http://gss-data.org.uk/data/gss_data/covid-19/ons-number-of-deaths-in-care-homes-notified-to-the-care-quality-commission-england#dimension/local-authority\" target=\"_other\">http://gss-data.org.uk/data/gss_data/covid-19/ons-number-of-deaths-in-care-homes-notified-to-the-care-quality-commission-england#dimension/local-authority</a></td>\n",
       "<td class=val><a href=\"http://purl.org/linked-data/sdmx/2009/dimension#refArea\" target=\"_other\">http://purl.org/linked-data/sdmx/2009/dimension#refArea</a></td></tr><tr class=even><td class=val><a href=\"http://gss-data.org.uk/graph/gss_data/census-2011\" target=\"_other\">http://gss-data.org.uk/graph/gss_data/census-2011</a></td>\n",
       "<td class=val><a href=\"http://gss-data.org.uk/data/gss_data/census-2011#component/geography\" target=\"_other\">http://gss-data.org.uk/data/gss_data/census-2011#component/geography</a></td>\n",
       "<td class=val><a href=\"http://purl.org/linked-data/cube#DimensionProperty\" target=\"_other\">http://purl.org/linked-data/cube#DimensionProperty</a></td>\n",
       "<td class=val><a href=\"http://gss-data.org.uk/data/gss_data/census-2011#dimension/geography\" target=\"_other\">http://gss-data.org.uk/data/gss_data/census-2011#dimension/geography</a></td>\n",
       "<td class=val><a href=\"http://purl.org/linked-data/sdmx/2009/dimension#refArea\" target=\"_other\">http://purl.org/linked-data/sdmx/2009/dimension#refArea</a></td></tr><tr class=odd><td class=val><a href=\"http://gss-data.org.uk/graph/gss_data/covid-19/ons-online-job-advert-estimates\" target=\"_other\">http://gss-data.org.uk/graph/gss_data/covid-19/ons-online-job-advert-estimates</a></td>\n",
       "<td class=val><a href=\"http://gss-data.org.uk/data/gss_data/covid-19/ons-online-job-advert-estimates#component/date\" target=\"_other\">http://gss-data.org.uk/data/gss_data/covid-19/ons-online-job-advert-estimates#component/date</a></td>\n",
       "<td class=val><a href=\"http://purl.org/linked-data/cube#DimensionProperty\" target=\"_other\">http://purl.org/linked-data/cube#DimensionProperty</a></td>\n",
       "<td class=val><a href=\"http://gss-data.org.uk/data/gss_data/covid-19/ons-online-job-advert-estimates#dimension/date\" target=\"_other\">http://gss-data.org.uk/data/gss_data/covid-19/ons-online-job-advert-estimates#dimension/date</a></td>\n",
       "<td class=val><a href=\"http://purl.org/linked-data/sdmx/2009/dimension#refPeriod\" target=\"_other\">http://purl.org/linked-data/sdmx/2009/dimension#refPeriod</a></td></tr><tr class=even><td class=val><a href=\"http://gss-data.org.uk/graph/gss_data/covid-19/nhs-d-coronavirus-shielded-patient-list-summary-totals-england\" target=\"_other\">http://gss-data.org.uk/graph/gss_data/covid-19/nhs-d-coronavirus-shielded-patient-list-summary-totals-england</a></td>\n",
       "<td class=val><a href=\"http://gss-data.org.uk/data/gss_data/covid-19/nhs-d-coronavirus-shielded-patient-list-summary-totals-england#component/extract-date\" target=\"_other\">http://gss-data.org.uk/data/gss_data/covid-19/nhs-d-coronavirus-shielded-patient-list-summary-totals-england#component/extract-date</a></td>\n",
       "<td class=val><a href=\"http://purl.org/linked-data/cube#DimensionProperty\" target=\"_other\">http://purl.org/linked-data/cube#DimensionProperty</a></td>\n",
       "<td class=val><a href=\"http://gss-data.org.uk/data/gss_data/covid-19/nhs-d-coronavirus-shielded-patient-list-summary-totals-england#dimension/extract-date\" target=\"_other\">http://gss-data.org.uk/data/gss_data/covid-19/nhs-d-coronavirus-shielded-patient-list-summary-totals-england#dimension/extract-date</a></td>\n",
       "<td class=val><a href=\"http://purl.org/linked-data/sdmx/2009/dimension#refPeriod\" target=\"_other\">http://purl.org/linked-data/sdmx/2009/dimension#refPeriod</a></td></tr><tr class=odd><td class=val><a href=\"http://gss-data.org.uk/graph/gss_data/covid-19/nhs-d-coronavirus-shielded-patient-list-summary-totals-england\" target=\"_other\">http://gss-data.org.uk/graph/gss_data/covid-19/nhs-d-coronavirus-shielded-patient-list-summary-totals-england</a></td>\n",
       "<td class=val><a href=\"http://gss-data.org.uk/data/gss_data/covid-19/nhs-d-coronavirus-shielded-patient-list-summary-totals-england#component/sex\" target=\"_other\">http://gss-data.org.uk/data/gss_data/covid-19/nhs-d-coronavirus-shielded-patient-list-summary-totals-england#component/sex</a></td>\n",
       "<td class=val><a href=\"http://purl.org/linked-data/cube#DimensionProperty\" target=\"_other\">http://purl.org/linked-data/cube#DimensionProperty</a></td>\n",
       "<td class=val><a href=\"http://gss-data.org.uk/data/gss_data/covid-19/nhs-d-coronavirus-shielded-patient-list-summary-totals-england#dimension/sex\" target=\"_other\">http://gss-data.org.uk/data/gss_data/covid-19/nhs-d-coronavirus-shielded-patient-list-summary-totals-england#dimension/sex</a></td>\n",
       "<td class=val><a href=\"http://purl.org/linked-data/sdmx/2009/dimension#sex\" target=\"_other\">http://purl.org/linked-data/sdmx/2009/dimension#sex</a></td></tr><tr class=even><td class=val><a href=\"http://gss-data.org.uk/graph/gss_data/towns-high-streets/ons-population-estimates-by-output-areas-electoral-health-and-other-geographies-england-and-wales\" target=\"_other\">http://gss-data.org.uk/graph/gss_data/towns-high-streets/ons-population-estimates-by-output-areas-electoral-health-and-other-geographies-england-and-wales</a></td>\n",
       "<td class=val><a href=\"http://gss-data.org.uk/data/gss_data/towns-high-streets/ons-population-estimates-by-output-areas-electoral-health-and-other-geographies-england-and-wales#component/date\" target=\"_other\">http://gss-data.org.uk/data/gss_data/towns-high-streets/ons-population-estimates-by-output-areas-electoral-health-and-other-geographies-england-and-wales#component/date</a></td>\n",
       "<td class=val><a href=\"http://purl.org/linked-data/cube#DimensionProperty\" target=\"_other\">http://purl.org/linked-data/cube#DimensionProperty</a></td>\n",
       "<td class=val><a href=\"http://gss-data.org.uk/data/gss_data/towns-high-streets/ons-population-estimates-by-output-areas-electoral-health-and-other-geographies-england-and-wales#dimension/date\" target=\"_other\">http://gss-data.org.uk/data/gss_data/towns-high-streets/ons-population-estimates-by-output-areas-electoral-health-and-other-geographies-england-and-wales#dimension/date</a></td>\n",
       "<td class=val><a href=\"http://purl.org/linked-data/sdmx/2009/dimension#refPeriod\" target=\"_other\">http://purl.org/linked-data/sdmx/2009/dimension#refPeriod</a></td></tr><tr class=odd><td class=val><a href=\"http://gss-data.org.uk/graph/gss_data/towns-high-streets/ons-population-estimates-by-output-areas-electoral-health-and-other-geographies-england-and-wales\" target=\"_other\">http://gss-data.org.uk/graph/gss_data/towns-high-streets/ons-population-estimates-by-output-areas-electoral-health-and-other-geographies-england-and-wales</a></td>\n",
       "<td class=val><a href=\"http://gss-data.org.uk/data/gss_data/towns-high-streets/ons-population-estimates-by-output-areas-electoral-health-and-other-geographies-england-and-wales#component/age\" target=\"_other\">http://gss-data.org.uk/data/gss_data/towns-high-streets/ons-population-estimates-by-output-areas-electoral-health-and-other-geographies-england-and-wales#component/age</a></td>\n",
       "<td class=val><a href=\"http://purl.org/linked-data/cube#DimensionProperty\" target=\"_other\">http://purl.org/linked-data/cube#DimensionProperty</a></td>\n",
       "<td class=val><a href=\"http://gss-data.org.uk/data/gss_data/towns-high-streets/ons-population-estimates-by-output-areas-electoral-health-and-other-geographies-england-and-wales#dimension/age\" target=\"_other\">http://gss-data.org.uk/data/gss_data/towns-high-streets/ons-population-estimates-by-output-areas-electoral-health-and-other-geographies-england-and-wales#dimension/age</a></td>\n",
       "<td class=val><a href=\"http://purl.org/linked-data/sdmx/2009/dimension#age\" target=\"_other\">http://purl.org/linked-data/sdmx/2009/dimension#age</a></td></tr><tr class=even><td class=val><a href=\"http://gss-data.org.uk/graph/gss_data/towns-high-streets/beis-lower-and-middle-super-output-areas-electricity-consumption\" target=\"_other\">http://gss-data.org.uk/graph/gss_data/towns-high-streets/beis-lower-and-middle-super-output-areas-electricity-consumption</a></td>\n",
       "<td class=val><a href=\"http://gss-data.org.uk/data/gss_data/towns-high-streets/beis-lower-and-middle-super-output-areas-electricity-consumption#component/year\" target=\"_other\">http://gss-data.org.uk/data/gss_data/towns-high-streets/beis-lower-and-middle-super-output-areas-electricity-consumption#component/year</a></td>\n",
       "<td class=val><a href=\"http://purl.org/linked-data/cube#DimensionProperty\" target=\"_other\">http://purl.org/linked-data/cube#DimensionProperty</a></td>\n",
       "<td class=val><a href=\"http://gss-data.org.uk/data/gss_data/towns-high-streets/beis-lower-and-middle-super-output-areas-electricity-consumption#dimension/year\" target=\"_other\">http://gss-data.org.uk/data/gss_data/towns-high-streets/beis-lower-and-middle-super-output-areas-electricity-consumption#dimension/year</a></td>\n",
       "<td class=val><a href=\"http://purl.org/linked-data/sdmx/2009/dimension#refPeriod\" target=\"_other\">http://purl.org/linked-data/sdmx/2009/dimension#refPeriod</a></td></tr><tr class=odd><td class=val><a href=\"http://gss-data.org.uk/graph/gss_data/towns-high-streets/beis-lower-and-middle-super-output-areas-electricity-consumption\" target=\"_other\">http://gss-data.org.uk/graph/gss_data/towns-high-streets/beis-lower-and-middle-super-output-areas-electricity-consumption</a></td>\n",
       "<td class=val><a href=\"http://gss-data.org.uk/data/gss_data/towns-high-streets/beis-lower-and-middle-super-output-areas-electricity-consumption#component/local-authority\" target=\"_other\">http://gss-data.org.uk/data/gss_data/towns-high-streets/beis-lower-and-middle-super-output-areas-electricity-consumption#component/local-authority</a></td>\n",
       "<td class=val><a href=\"http://purl.org/linked-data/cube#DimensionProperty\" target=\"_other\">http://purl.org/linked-data/cube#DimensionProperty</a></td>\n",
       "<td class=val><a href=\"http://gss-data.org.uk/data/gss_data/towns-high-streets/beis-lower-and-middle-super-output-areas-electricity-consumption#dimension/local-authority\" target=\"_other\">http://gss-data.org.uk/data/gss_data/towns-high-streets/beis-lower-and-middle-super-output-areas-electricity-consumption#dimension/local-authority</a></td>\n",
       "<td class=val><a href=\"http://purl.org/linked-data/sdmx/2009/dimension#refArea\" target=\"_other\">http://purl.org/linked-data/sdmx/2009/dimension#refArea</a></td></tr><tr class=even><td class=val><a href=\"http://gss-data.org.uk/graph/gss_data/towns-high-streets/beis-lower-and-middle-super-output-areas-electricity-consumption\" target=\"_other\">http://gss-data.org.uk/graph/gss_data/towns-high-streets/beis-lower-and-middle-super-output-areas-electricity-consumption</a></td>\n",
       "<td class=val><a href=\"http://gss-data.org.uk/data/gss_data/towns-high-streets/beis-lower-and-middle-super-output-areas-electricity-consumption#component/middle-layer-super-output-area\" target=\"_other\">http://gss-data.org.uk/data/gss_data/towns-high-streets/beis-lower-and-middle-super-output-areas-electricity-consumption#component/middle-layer-super-output-area</a></td>\n",
       "<td class=val><a href=\"http://purl.org/linked-data/cube#DimensionProperty\" target=\"_other\">http://purl.org/linked-data/cube#DimensionProperty</a></td>\n",
       "<td class=val><a href=\"http://gss-data.org.uk/data/gss_data/towns-high-streets/beis-lower-and-middle-super-output-areas-electricity-consumption#dimension/middle-layer-super-output-area\" target=\"_other\">http://gss-data.org.uk/data/gss_data/towns-high-streets/beis-lower-and-middle-super-output-areas-electricity-consumption#dimension/middle-layer-super-output-area</a></td>\n",
       "<td class=val><a href=\"http://purl.org/linked-data/sdmx/2009/dimension#refArea\" target=\"_other\">http://purl.org/linked-data/sdmx/2009/dimension#refArea</a></td></tr><tr class=odd><td class=val><a href=\"http://gss-data.org.uk/graph/gss_data/towns-high-streets/beis-lower-and-middle-super-output-areas-electricity-consumption\" target=\"_other\">http://gss-data.org.uk/graph/gss_data/towns-high-streets/beis-lower-and-middle-super-output-areas-electricity-consumption</a></td>\n",
       "<td class=val><a href=\"http://gss-data.org.uk/data/gss_data/towns-high-streets/beis-lower-and-middle-super-output-areas-electricity-consumption#component/lower-layer-super-output-area\" target=\"_other\">http://gss-data.org.uk/data/gss_data/towns-high-streets/beis-lower-and-middle-super-output-areas-electricity-consumption#component/lower-layer-super-output-area</a></td>\n",
       "<td class=val><a href=\"http://purl.org/linked-data/cube#DimensionProperty\" target=\"_other\">http://purl.org/linked-data/cube#DimensionProperty</a></td>\n",
       "<td class=val><a href=\"http://gss-data.org.uk/data/gss_data/towns-high-streets/beis-lower-and-middle-super-output-areas-electricity-consumption#dimension/lower-layer-super-output-area\" target=\"_other\">http://gss-data.org.uk/data/gss_data/towns-high-streets/beis-lower-and-middle-super-output-areas-electricity-consumption#dimension/lower-layer-super-output-area</a></td>\n",
       "<td class=val><a href=\"http://purl.org/linked-data/sdmx/2009/dimension#refArea\" target=\"_other\">http://purl.org/linked-data/sdmx/2009/dimension#refArea</a></td></tr><tr class=even><td class=val><a href=\"http://gss-data.org.uk/graph/gss_data/towns-high-streets/beis-lower-and-middle-super-output-areas-gas-consumption\" target=\"_other\">http://gss-data.org.uk/graph/gss_data/towns-high-streets/beis-lower-and-middle-super-output-areas-gas-consumption</a></td>\n",
       "<td class=val><a href=\"http://gss-data.org.uk/data/gss_data/towns-high-streets/beis-lower-and-middle-super-output-areas-gas-consumption#component/year\" target=\"_other\">http://gss-data.org.uk/data/gss_data/towns-high-streets/beis-lower-and-middle-super-output-areas-gas-consumption#component/year</a></td>\n",
       "<td class=val><a href=\"http://purl.org/linked-data/cube#DimensionProperty\" target=\"_other\">http://purl.org/linked-data/cube#DimensionProperty</a></td>\n",
       "<td class=val><a href=\"http://gss-data.org.uk/data/gss_data/towns-high-streets/beis-lower-and-middle-super-output-areas-gas-consumption#dimension/year\" target=\"_other\">http://gss-data.org.uk/data/gss_data/towns-high-streets/beis-lower-and-middle-super-output-areas-gas-consumption#dimension/year</a></td>\n",
       "<td class=val><a href=\"http://purl.org/linked-data/sdmx/2009/dimension#refPeriod\" target=\"_other\">http://purl.org/linked-data/sdmx/2009/dimension#refPeriod</a></td></tr><tr class=odd><td class=val><a href=\"http://gss-data.org.uk/graph/gss_data/towns-high-streets/beis-lower-and-middle-super-output-areas-gas-consumption\" target=\"_other\">http://gss-data.org.uk/graph/gss_data/towns-high-streets/beis-lower-and-middle-super-output-areas-gas-consumption</a></td>\n",
       "<td class=val><a href=\"http://gss-data.org.uk/data/gss_data/towns-high-streets/beis-lower-and-middle-super-output-areas-gas-consumption#component/local-authority\" target=\"_other\">http://gss-data.org.uk/data/gss_data/towns-high-streets/beis-lower-and-middle-super-output-areas-gas-consumption#component/local-authority</a></td>\n",
       "<td class=val><a href=\"http://purl.org/linked-data/cube#DimensionProperty\" target=\"_other\">http://purl.org/linked-data/cube#DimensionProperty</a></td>\n",
       "<td class=val><a href=\"http://gss-data.org.uk/data/gss_data/towns-high-streets/beis-lower-and-middle-super-output-areas-gas-consumption#dimension/local-authority\" target=\"_other\">http://gss-data.org.uk/data/gss_data/towns-high-streets/beis-lower-and-middle-super-output-areas-gas-consumption#dimension/local-authority</a></td>\n",
       "<td class=val><a href=\"http://purl.org/linked-data/sdmx/2009/dimension#refArea\" target=\"_other\">http://purl.org/linked-data/sdmx/2009/dimension#refArea</a></td></tr><tr class=even><td class=val><a href=\"http://gss-data.org.uk/graph/gss_data/towns-high-streets/beis-lower-and-middle-super-output-areas-gas-consumption\" target=\"_other\">http://gss-data.org.uk/graph/gss_data/towns-high-streets/beis-lower-and-middle-super-output-areas-gas-consumption</a></td>\n",
       "<td class=val><a href=\"http://gss-data.org.uk/data/gss_data/towns-high-streets/beis-lower-and-middle-super-output-areas-gas-consumption#component/middle-layer-super-output-area\" target=\"_other\">http://gss-data.org.uk/data/gss_data/towns-high-streets/beis-lower-and-middle-super-output-areas-gas-consumption#component/middle-layer-super-output-area</a></td>\n",
       "<td class=val><a href=\"http://purl.org/linked-data/cube#DimensionProperty\" target=\"_other\">http://purl.org/linked-data/cube#DimensionProperty</a></td>\n",
       "<td class=val><a href=\"http://gss-data.org.uk/data/gss_data/towns-high-streets/beis-lower-and-middle-super-output-areas-gas-consumption#dimension/middle-layer-super-output-area\" target=\"_other\">http://gss-data.org.uk/data/gss_data/towns-high-streets/beis-lower-and-middle-super-output-areas-gas-consumption#dimension/middle-layer-super-output-area</a></td>\n",
       "<td class=val><a href=\"http://purl.org/linked-data/sdmx/2009/dimension#refArea\" target=\"_other\">http://purl.org/linked-data/sdmx/2009/dimension#refArea</a></td></tr><tr class=odd><td class=val><a href=\"http://gss-data.org.uk/graph/gss_data/towns-high-streets/beis-lower-and-middle-super-output-areas-gas-consumption\" target=\"_other\">http://gss-data.org.uk/graph/gss_data/towns-high-streets/beis-lower-and-middle-super-output-areas-gas-consumption</a></td>\n",
       "<td class=val><a href=\"http://gss-data.org.uk/data/gss_data/towns-high-streets/beis-lower-and-middle-super-output-areas-gas-consumption#component/lower-layer-super-output-area\" target=\"_other\">http://gss-data.org.uk/data/gss_data/towns-high-streets/beis-lower-and-middle-super-output-areas-gas-consumption#component/lower-layer-super-output-area</a></td>\n",
       "<td class=val><a href=\"http://purl.org/linked-data/cube#DimensionProperty\" target=\"_other\">http://purl.org/linked-data/cube#DimensionProperty</a></td>\n",
       "<td class=val><a href=\"http://gss-data.org.uk/data/gss_data/towns-high-streets/beis-lower-and-middle-super-output-areas-gas-consumption#dimension/lower-layer-super-output-area\" target=\"_other\">http://gss-data.org.uk/data/gss_data/towns-high-streets/beis-lower-and-middle-super-output-areas-gas-consumption#dimension/lower-layer-super-output-area</a></td>\n",
       "<td class=val><a href=\"http://purl.org/linked-data/sdmx/2009/dimension#refArea\" target=\"_other\">http://purl.org/linked-data/sdmx/2009/dimension#refArea</a></td></tr><tr class=even><td class=val><a href=\"http://gss-data.org.uk/graph/gss_data/covid-19/wg-summary-data-about-coronavirus-covid-19-and-the-response-to-it\" target=\"_other\">http://gss-data.org.uk/graph/gss_data/covid-19/wg-summary-data-about-coronavirus-covid-19-and-the-response-to-it</a></td>\n",
       "<td class=val><a href=\"http://gss-data.org.uk/data/gss_data/covid-19/wg-summary-data-about-coronavirus-covid-19-and-the-response-to-it#component/date\" target=\"_other\">http://gss-data.org.uk/data/gss_data/covid-19/wg-summary-data-about-coronavirus-covid-19-and-the-response-to-it#component/date</a></td>\n",
       "<td class=val><a href=\"http://purl.org/linked-data/cube#DimensionProperty\" target=\"_other\">http://purl.org/linked-data/cube#DimensionProperty</a></td>\n",
       "<td class=val><a href=\"http://gss-data.org.uk/data/gss_data/covid-19/wg-summary-data-about-coronavirus-covid-19-and-the-response-to-it#dimension/date\" target=\"_other\">http://gss-data.org.uk/data/gss_data/covid-19/wg-summary-data-about-coronavirus-covid-19-and-the-response-to-it#dimension/date</a></td>\n",
       "<td class=val><a href=\"http://purl.org/linked-data/sdmx/2009/dimension#refPeriod\" target=\"_other\">http://purl.org/linked-data/sdmx/2009/dimension#refPeriod</a></td></tr></table><div class=\"tinfo\">Total: 300, Shown: 20</div></div>"
      ]
     },
     "metadata": {},
     "output_type": "display_data"
    }
   ],
   "source": [
    "PREFIX qb: <http://purl.org/linked-data/cube#>\n",
    "PREFIX rdf: <http://www.w3.org/1999/02/22-rdf-syntax-ns#>\n",
    "PREFIX rdfs: <http://www.w3.org/2000/01/rdf-schema#>\n",
    "\n",
    "# For a given cube's graph, select its components\n",
    "\n",
    "SELECT ?graphUrl ?component ?kind ?definition ?propertyParent\n",
    "WHERE {\n",
    "    GRAPH  ?graphUrl {\n",
    "        ?component qb:componentProperty ?definition .\n",
    "    }\n",
    "\tBIND(qb:DimensionProperty as ?kind)\n",
    "\t?definition rdf:type ?kind.\n",
    "\n",
    "\t?definition rdfs:subPropertyOf+ ?propertyParent.\n",
    "\n",
    "\n",
    "}\n",
    "\n",
    "LIMIT 300"
   ]
  },
  {
   "cell_type": "code",
   "execution_count": 5,
   "metadata": {},
   "outputs": [
    {
     "data": {
      "text/html": [
       "<div class=\"krn-spql\"><table><tr class=hdr><th>subject</th>\n",
       "<th>predicate</th>\n",
       "<th>object</th></tr><tr class=odd><td class=val><a href=\"http://gss-data.org.uk/data/gss_data/covid-19/nrs-deaths-involving-coronavirus-covid-19-in-scotland#dimension/council-area\" target=\"_other\">http://gss-data.org.uk/data/gss_data/covid-19/nrs-deaths-involving-coronavirus-covid-19-in-scotland#dimension/council-area</a></td>\n",
       "<td class=val><a href=\"http://www.w3.org/2000/01/rdf-schema#subPropertyOf\" target=\"_other\">http://www.w3.org/2000/01/rdf-schema#subPropertyOf</a></td>\n",
       "<td class=val><a href=\"http://purl.org/linked-data/sdmx/2009/dimension#refArea\" target=\"_other\">http://purl.org/linked-data/sdmx/2009/dimension#refArea</a></td></tr><tr class=even><td class=val><a href=\"http://gss-data.org.uk/data/gss_data/covid-19/nrs-deaths-involving-coronavirus-covid-19-in-scotland#dimension/council-area\" target=\"_other\">http://gss-data.org.uk/data/gss_data/covid-19/nrs-deaths-involving-coronavirus-covid-19-in-scotland#dimension/council-area</a></td>\n",
       "<td class=val><a href=\"http://www.w3.org/2000/01/rdf-schema#range\" target=\"_other\">http://www.w3.org/2000/01/rdf-schema#range</a></td>\n",
       "<td class=val><a href=\"http://gss-data.org.uk/data/gss_data/covid-19/nrs-deaths-involving-coronavirus-covid-19-in-scotland#class/CouncilArea\" target=\"_other\">http://gss-data.org.uk/data/gss_data/covid-19/nrs-deaths-involving-coronavirus-covid-19-in-scotland#class/CouncilArea</a></td></tr><tr class=odd><td class=val><a href=\"http://gss-data.org.uk/data/gss_data/covid-19/nrs-deaths-involving-coronavirus-covid-19-in-scotland#dimension/council-area\" target=\"_other\">http://gss-data.org.uk/data/gss_data/covid-19/nrs-deaths-involving-coronavirus-covid-19-in-scotland#dimension/council-area</a></td>\n",
       "<td class=val><a href=\"http://www.w3.org/1999/02/22-rdf-syntax-ns#type\" target=\"_other\">http://www.w3.org/1999/02/22-rdf-syntax-ns#type</a></td>\n",
       "<td class=val><a href=\"http://purl.org/linked-data/cube#DimensionProperty\" target=\"_other\">http://purl.org/linked-data/cube#DimensionProperty</a></td></tr><tr class=even><td class=val><a href=\"http://gss-data.org.uk/data/gss_data/covid-19/nrs-deaths-involving-coronavirus-covid-19-in-scotland#dimension/council-area\" target=\"_other\">http://gss-data.org.uk/data/gss_data/covid-19/nrs-deaths-involving-coronavirus-covid-19-in-scotland#dimension/council-area</a></td>\n",
       "<td class=val><a href=\"http://www.w3.org/2000/01/rdf-schema#label\" target=\"_other\">http://www.w3.org/2000/01/rdf-schema#label</a></td>\n",
       "<td class=val>Council Area</td></tr><tr class=odd><td class=val><a href=\"http://gss-data.org.uk/data/gss_data/covid-19/nrs-deaths-involving-coronavirus-covid-19-in-scotland#dimension/council-area\" target=\"_other\">http://gss-data.org.uk/data/gss_data/covid-19/nrs-deaths-involving-coronavirus-covid-19-in-scotland#dimension/council-area</a></td>\n",
       "<td class=val><a href=\"http://www.w3.org/2000/01/rdf-schema#isDefinedBy\" target=\"_other\">http://www.w3.org/2000/01/rdf-schema#isDefinedBy</a></td>\n",
       "<td class=val>N066dec08e9c34f60891693b996fd417a</td></tr><tr class=even><td class=val><a href=\"http://gss-data.org.uk/data/gss_data/covid-19/nrs-deaths-involving-coronavirus-covid-19-in-scotland#dimension/council-area\" target=\"_other\">http://gss-data.org.uk/data/gss_data/covid-19/nrs-deaths-involving-coronavirus-covid-19-in-scotland#dimension/council-area</a></td>\n",
       "<td class=val><a href=\"http://purl.org/linked-data/cube#codeList\" target=\"_other\">http://purl.org/linked-data/cube#codeList</a></td>\n",
       "<td class=val><a href=\"http://gss-data.org.uk/data/gss_data/covid-19/nrs-deaths-involving-coronavirus-covid-19-in-scotland#scheme/council-area\" target=\"_other\">http://gss-data.org.uk/data/gss_data/covid-19/nrs-deaths-involving-coronavirus-covid-19-in-scotland#scheme/council-area</a></td></tr></table><div class=\"tinfo\">Shown: 6, Total rows: 6</div></div>"
      ]
     },
     "metadata": {},
     "output_type": "display_data"
    }
   ],
   "source": [
    "DESCRIBE <http://gss-data.org.uk/data/gss_data/covid-19/nrs-deaths-involving-coronavirus-covid-19-in-scotland#dimension/council-area>"
   ]
  },
  {
   "cell_type": "code",
   "execution_count": 5,
   "metadata": {},
   "outputs": [
    {
     "data": {
      "text/html": [
       "<div class=\"krn-spql\"><table><tr class=hdr><th>dimension</th>\n",
       "<th>p</th>\n",
       "<th>o</th></tr></table><div class=\"tinfo\">Total: 0, Shown: 0</div></div>"
      ]
     },
     "metadata": {},
     "output_type": "display_data"
    }
   ],
   "source": [
    "PREFIX qb: <http://purl.org/linked-data/cube#>\n",
    "PREFIX rdf: <http://www.w3.org/1999/02/22-rdf-syntax-ns#>\n",
    "PREFIX rdfs: <http://www.w3.org/2000/01/rdf-schema#>\n",
    "\n",
    "SELECT ?dimension ?p ?o\n",
    "WHERE {\n",
    "    <http://gss-data.org.uk/data/gss_data/covid-19/mmo-ad-hoc-statistical-release-uk-sea-fisheries-statistics#dataset>\n",
    "            qb:structure/qb:component/qb:componentProperty/qb:dimension ?dimension .\n",
    "}"
   ]
  },
  {
   "cell_type": "code",
   "execution_count": null,
   "metadata": {},
   "outputs": [],
   "source": []
  }
 ],
 "metadata": {
  "kernelspec": {
   "display_name": "SPARQL",
   "language": "sparql",
   "name": "python395jvsc74a57bd04cd7ab41f5fca4b9b44701077e38c5ffd31fe66a6cab21e0214b68d958d0e462"
  },
  "language_info": {
   "codemirror_mode": {
    "name": "sparql"
   },
   "mimetype": "application/sparql-query",
   "name": "sparql",
   "pygments_lexer": "sparql-nb"
  },
  "orig_nbformat": 4
 },
 "nbformat": 4,
 "nbformat_minor": 2
}