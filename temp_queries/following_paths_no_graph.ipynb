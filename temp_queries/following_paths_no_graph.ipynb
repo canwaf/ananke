{
 "cells": [
  {
   "cell_type": "code",
   "execution_count": 1,
   "source": [
    "%endpoint https://staging.gss-data.org.uk/sparql\n",
    "%format any\n",
    "%display table"
   ],
   "outputs": [
    {
     "output_type": "display_data",
     "data": {
      "text/plain": [
       "Endpoint set to: https://staging.gss-data.org.uk/sparql\n",
       "Request format: ANY\n",
       "Display: table\n"
      ],
      "text/html": [
       "<div class=\"krn-spql\"><div class=\"magic\">Endpoint set to: https://staging.gss-data.org.uk/sparql</div><div class=\"magic\">Request format: ANY</div><div class=\"magic\">Display: table</div></div>"
      ]
     },
     "metadata": {}
    }
   ],
   "metadata": {}
  },
  {
   "cell_type": "code",
   "execution_count": 2,
   "source": [
    "PREFIX qb: <http://purl.org/linked-data/cube#>\n",
    "PREFIX rdf: <http://www.w3.org/1999/02/22-rdf-syntax-ns#>\n",
    "PREFIX rdfs: <http://www.w3.org/2000/01/rdf-schema#>\n",
    "\n",
    "# For a given graph select its components\n",
    "\n",
    "SELECT ?graphUrl ?component ?kind ?definition ?propertyParent\n",
    "WHERE {\n",
    "    GRAPH  ?graphUrl {\n",
    "        ?component qb:componentProperty ?definition .\n",
    "    }\n",
    "\tBIND(qb:DimensionProperty as ?kind)\n",
    "\t?definition rdf:type ?kind.\n",
    "\n",
    "\t?definition rdfs:subPropertyOf+ ?propertyParent.\n",
    "}\n",
    "\n",
    "LIMIT 5"
   ],
   "outputs": [
    {
     "output_type": "display_data",
     "data": {
      "text/html": [
       "<div class=\"krn-spql\"><table><tr class=hdr><th>graphUrl</th>\n",
       "<th>component</th>\n",
       "<th>kind</th>\n",
       "<th>definition</th>\n",
       "<th>propertyParent</th></tr><tr class=odd><td class=val><a href=\"http://gss-data.org.uk/graph/gss_data/covid-19/nrs-deaths-involving-coronavirus-covid-19-in-scotland\" target=\"_other\">http://gss-data.org.uk/graph/gss_data/covid-19/nrs-deaths-involving-coronavirus-covid-19-in-scotland</a></td>\n",
       "<td class=val><a href=\"http://gss-data.org.uk/data/gss_data/covid-19/nrs-deaths-involving-coronavirus-covid-19-in-scotland#component/council-area\" target=\"_other\">http://gss-data.org.uk/data/gss_data/covid-19/nrs-deaths-involving-coronavirus-covid-19-in-scotland#component/council-area</a></td>\n",
       "<td class=val><a href=\"http://purl.org/linked-data/cube#DimensionProperty\" target=\"_other\">http://purl.org/linked-data/cube#DimensionProperty</a></td>\n",
       "<td class=val><a href=\"http://gss-data.org.uk/data/gss_data/covid-19/nrs-deaths-involving-coronavirus-covid-19-in-scotland#dimension/council-area\" target=\"_other\">http://gss-data.org.uk/data/gss_data/covid-19/nrs-deaths-involving-coronavirus-covid-19-in-scotland#dimension/council-area</a></td>\n",
       "<td class=val><a href=\"http://purl.org/linked-data/sdmx/2009/dimension#refArea\" target=\"_other\">http://purl.org/linked-data/sdmx/2009/dimension#refArea</a></td></tr><tr class=even><td class=val><a href=\"http://gss-data.org.uk/graph/gss_data/covid-19/nrs-deaths-involving-coronavirus-covid-19-in-scotland\" target=\"_other\">http://gss-data.org.uk/graph/gss_data/covid-19/nrs-deaths-involving-coronavirus-covid-19-in-scotland</a></td>\n",
       "<td class=val><a href=\"http://gss-data.org.uk/data/gss_data/covid-19/nrs-deaths-involving-coronavirus-covid-19-in-scotland#component/nhs-board\" target=\"_other\">http://gss-data.org.uk/data/gss_data/covid-19/nrs-deaths-involving-coronavirus-covid-19-in-scotland#component/nhs-board</a></td>\n",
       "<td class=val><a href=\"http://purl.org/linked-data/cube#DimensionProperty\" target=\"_other\">http://purl.org/linked-data/cube#DimensionProperty</a></td>\n",
       "<td class=val><a href=\"http://gss-data.org.uk/data/gss_data/covid-19/nrs-deaths-involving-coronavirus-covid-19-in-scotland#dimension/nhs-board\" target=\"_other\">http://gss-data.org.uk/data/gss_data/covid-19/nrs-deaths-involving-coronavirus-covid-19-in-scotland#dimension/nhs-board</a></td>\n",
       "<td class=val><a href=\"http://purl.org/linked-data/sdmx/2009/dimension#refArea\" target=\"_other\">http://purl.org/linked-data/sdmx/2009/dimension#refArea</a></td></tr><tr class=odd><td class=val><a href=\"http://gss-data.org.uk/graph/gss_data/covid-19/wg-notifications-of-deaths-of-residents-related-to-covid-19-in-adult-care-homes\" target=\"_other\">http://gss-data.org.uk/graph/gss_data/covid-19/wg-notifications-of-deaths-of-residents-related-to-covid-19-in-adult-care-homes</a></td>\n",
       "<td class=val><a href=\"http://gss-data.org.uk/data/gss_data/covid-19/wg-notifications-of-deaths-of-residents-related-to-covid-19-in-adult-care-homes#component/area-code\" target=\"_other\">http://gss-data.org.uk/data/gss_data/covid-19/wg-notifications-of-deaths-of-residents-related-to-covid-19-in-adult-care-homes#component/area-code</a></td>\n",
       "<td class=val><a href=\"http://purl.org/linked-data/cube#DimensionProperty\" target=\"_other\">http://purl.org/linked-data/cube#DimensionProperty</a></td>\n",
       "<td class=val><a href=\"http://gss-data.org.uk/data/gss_data/covid-19/wg-notifications-of-deaths-of-residents-related-to-covid-19-in-adult-care-homes#dimension/area-code\" target=\"_other\">http://gss-data.org.uk/data/gss_data/covid-19/wg-notifications-of-deaths-of-residents-related-to-covid-19-in-adult-care-homes#dimension/area-code</a></td>\n",
       "<td class=val><a href=\"http://purl.org/linked-data/sdmx/2009/dimension#refArea\" target=\"_other\">http://purl.org/linked-data/sdmx/2009/dimension#refArea</a></td></tr><tr class=even><td class=val><a href=\"http://gss-data.org.uk/graph/gss_data/covid-19/wg-notifications-of-deaths-of-residents-related-to-covid-19-in-adult-care-homes\" target=\"_other\">http://gss-data.org.uk/graph/gss_data/covid-19/wg-notifications-of-deaths-of-residents-related-to-covid-19-in-adult-care-homes</a></td>\n",
       "<td class=val><a href=\"http://gss-data.org.uk/data/gss_data/covid-19/wg-notifications-of-deaths-of-residents-related-to-covid-19-in-adult-care-homes#component/notification-date\" target=\"_other\">http://gss-data.org.uk/data/gss_data/covid-19/wg-notifications-of-deaths-of-residents-related-to-covid-19-in-adult-care-homes#component/notification-date</a></td>\n",
       "<td class=val><a href=\"http://purl.org/linked-data/cube#DimensionProperty\" target=\"_other\">http://purl.org/linked-data/cube#DimensionProperty</a></td>\n",
       "<td class=val><a href=\"http://gss-data.org.uk/data/gss_data/covid-19/wg-notifications-of-deaths-of-residents-related-to-covid-19-in-adult-care-homes#dimension/notification-date\" target=\"_other\">http://gss-data.org.uk/data/gss_data/covid-19/wg-notifications-of-deaths-of-residents-related-to-covid-19-in-adult-care-homes#dimension/notification-date</a></td>\n",
       "<td class=val><a href=\"http://purl.org/linked-data/sdmx/2009/dimension#refPeriod\" target=\"_other\">http://purl.org/linked-data/sdmx/2009/dimension#refPeriod</a></td></tr><tr class=odd><td class=val><a href=\"http://gss-data.org.uk/graph/gss_data/covid-19/ons-number-of-deaths-in-care-homes-notified-to-the-care-quality-commission-england\" target=\"_other\">http://gss-data.org.uk/graph/gss_data/covid-19/ons-number-of-deaths-in-care-homes-notified-to-the-care-quality-commission-england</a></td>\n",
       "<td class=val><a href=\"http://gss-data.org.uk/data/gss_data/covid-19/ons-number-of-deaths-in-care-homes-notified-to-the-care-quality-commission-england#component/local-authority\" target=\"_other\">http://gss-data.org.uk/data/gss_data/covid-19/ons-number-of-deaths-in-care-homes-notified-to-the-care-quality-commission-england#component/local-authority</a></td>\n",
       "<td class=val><a href=\"http://purl.org/linked-data/cube#DimensionProperty\" target=\"_other\">http://purl.org/linked-data/cube#DimensionProperty</a></td>\n",
       "<td class=val><a href=\"http://gss-data.org.uk/data/gss_data/covid-19/ons-number-of-deaths-in-care-homes-notified-to-the-care-quality-commission-england#dimension/local-authority\" target=\"_other\">http://gss-data.org.uk/data/gss_data/covid-19/ons-number-of-deaths-in-care-homes-notified-to-the-care-quality-commission-england#dimension/local-authority</a></td>\n",
       "<td class=val><a href=\"http://purl.org/linked-data/sdmx/2009/dimension#refArea\" target=\"_other\">http://purl.org/linked-data/sdmx/2009/dimension#refArea</a></td></tr></table><div class=\"tinfo\">Total: 5, Shown: 5</div></div>"
      ]
     },
     "metadata": {}
    }
   ],
   "metadata": {}
  },
  {
   "cell_type": "code",
   "execution_count": 3,
   "source": [
    "PREFIX qb: <http://purl.org/linked-data/cube#>\n",
    "PREFIX rdf: <http://www.w3.org/1999/02/22-rdf-syntax-ns#>\n",
    "PREFIX rdfs: <http://www.w3.org/2000/01/rdf-schema#>\n",
    "\n",
    "SELECT ?component ?class ?p ?o \n",
    "WHERE {\n",
    "    BIND(<http://gss-data.org.uk/data/gss_data/trade/hmrc-overseas-trade-statistics/hmrc-overseas-trade-statistics-sitc#dataset> as ?dataset)\n",
    "    BIND(qb:component as ?class)\n",
    "        ?dataset    qb:structure/qb:component   ?component .\n",
    "        ?component ?p ?o .\n",
    "\n",
    "}\n",
    "\n",
    "\n"
   ],
   "outputs": [
    {
     "output_type": "display_data",
     "data": {
      "text/html": [
       "<div class=\"krn-spql\"><table><tr class=hdr><th>component</th>\n",
       "<th>class</th>\n",
       "<th>p</th>\n",
       "<th>o</th></tr><tr class=odd><td class=val><a href=\"http://gss-data.org.uk/data/gss_data/trade/hmrc-overseas-trade-statistics/hmrc-overseas-trade-statistics-sitc#component/net-mass\" target=\"_other\">http://gss-data.org.uk/data/gss_data/trade/hmrc-overseas-trade-statistics/hmrc-overseas-trade-statistics-sitc#component/net-mass</a></td>\n",
       "<td class=val><a href=\"http://purl.org/linked-data/cube#component\" target=\"_other\">http://purl.org/linked-data/cube#component</a></td>\n",
       "<td class=val><a href=\"http://www.w3.org/1999/02/22-rdf-syntax-ns#type\" target=\"_other\">http://www.w3.org/1999/02/22-rdf-syntax-ns#type</a></td>\n",
       "<td class=val><a href=\"http://purl.org/linked-data/cube#ComponentSpecification\" target=\"_other\">http://purl.org/linked-data/cube#ComponentSpecification</a></td></tr><tr class=even><td class=val><a href=\"http://gss-data.org.uk/data/gss_data/trade/hmrc-overseas-trade-statistics/hmrc-overseas-trade-statistics-sitc#component/net-mass\" target=\"_other\">http://gss-data.org.uk/data/gss_data/trade/hmrc-overseas-trade-statistics/hmrc-overseas-trade-statistics-sitc#component/net-mass</a></td>\n",
       "<td class=val><a href=\"http://purl.org/linked-data/cube#component\" target=\"_other\">http://purl.org/linked-data/cube#component</a></td>\n",
       "<td class=val><a href=\"http://purl.org/linked-data/cube#componentProperty\" target=\"_other\">http://purl.org/linked-data/cube#componentProperty</a></td>\n",
       "<td class=val><a href=\"http://gss-data.org.uk/def/trade/measure/net-mass\" target=\"_other\">http://gss-data.org.uk/def/trade/measure/net-mass</a></td></tr><tr class=odd><td class=val><a href=\"http://gss-data.org.uk/data/gss_data/trade/hmrc-overseas-trade-statistics/hmrc-overseas-trade-statistics-sitc#component/net-mass\" target=\"_other\">http://gss-data.org.uk/data/gss_data/trade/hmrc-overseas-trade-statistics/hmrc-overseas-trade-statistics-sitc#component/net-mass</a></td>\n",
       "<td class=val><a href=\"http://purl.org/linked-data/cube#component\" target=\"_other\">http://purl.org/linked-data/cube#component</a></td>\n",
       "<td class=val><a href=\"http://purl.org/linked-data/cube#measure\" target=\"_other\">http://purl.org/linked-data/cube#measure</a></td>\n",
       "<td class=val><a href=\"http://gss-data.org.uk/def/trade/measure/net-mass\" target=\"_other\">http://gss-data.org.uk/def/trade/measure/net-mass</a></td></tr><tr class=even><td class=val><a href=\"http://gss-data.org.uk/data/gss_data/trade/hmrc-overseas-trade-statistics/hmrc-overseas-trade-statistics-sitc#component/monetary-value\" target=\"_other\">http://gss-data.org.uk/data/gss_data/trade/hmrc-overseas-trade-statistics/hmrc-overseas-trade-statistics-sitc#component/monetary-value</a></td>\n",
       "<td class=val><a href=\"http://purl.org/linked-data/cube#component\" target=\"_other\">http://purl.org/linked-data/cube#component</a></td>\n",
       "<td class=val><a href=\"http://www.w3.org/1999/02/22-rdf-syntax-ns#type\" target=\"_other\">http://www.w3.org/1999/02/22-rdf-syntax-ns#type</a></td>\n",
       "<td class=val><a href=\"http://purl.org/linked-data/cube#ComponentSpecification\" target=\"_other\">http://purl.org/linked-data/cube#ComponentSpecification</a></td></tr><tr class=odd><td class=val><a href=\"http://gss-data.org.uk/data/gss_data/trade/hmrc-overseas-trade-statistics/hmrc-overseas-trade-statistics-sitc#component/monetary-value\" target=\"_other\">http://gss-data.org.uk/data/gss_data/trade/hmrc-overseas-trade-statistics/hmrc-overseas-trade-statistics-sitc#component/monetary-value</a></td>\n",
       "<td class=val><a href=\"http://purl.org/linked-data/cube#component\" target=\"_other\">http://purl.org/linked-data/cube#component</a></td>\n",
       "<td class=val><a href=\"http://purl.org/linked-data/cube#componentProperty\" target=\"_other\">http://purl.org/linked-data/cube#componentProperty</a></td>\n",
       "<td class=val><a href=\"http://gss-data.org.uk/def/trade/measure/monetary-value\" target=\"_other\">http://gss-data.org.uk/def/trade/measure/monetary-value</a></td></tr><tr class=even><td class=val><a href=\"http://gss-data.org.uk/data/gss_data/trade/hmrc-overseas-trade-statistics/hmrc-overseas-trade-statistics-sitc#component/monetary-value\" target=\"_other\">http://gss-data.org.uk/data/gss_data/trade/hmrc-overseas-trade-statistics/hmrc-overseas-trade-statistics-sitc#component/monetary-value</a></td>\n",
       "<td class=val><a href=\"http://purl.org/linked-data/cube#component\" target=\"_other\">http://purl.org/linked-data/cube#component</a></td>\n",
       "<td class=val><a href=\"http://purl.org/linked-data/cube#measure\" target=\"_other\">http://purl.org/linked-data/cube#measure</a></td>\n",
       "<td class=val><a href=\"http://gss-data.org.uk/def/trade/measure/monetary-value\" target=\"_other\">http://gss-data.org.uk/def/trade/measure/monetary-value</a></td></tr><tr class=odd><td class=val><a href=\"http://gss-data.org.uk/data/gss_data/trade/hmrc-overseas-trade-statistics/hmrc-overseas-trade-statistics-sitc#component/country_id\" target=\"_other\">http://gss-data.org.uk/data/gss_data/trade/hmrc-overseas-trade-statistics/hmrc-overseas-trade-statistics-sitc#component/country_id</a></td>\n",
       "<td class=val><a href=\"http://purl.org/linked-data/cube#component\" target=\"_other\">http://purl.org/linked-data/cube#component</a></td>\n",
       "<td class=val><a href=\"http://www.w3.org/1999/02/22-rdf-syntax-ns#type\" target=\"_other\">http://www.w3.org/1999/02/22-rdf-syntax-ns#type</a></td>\n",
       "<td class=val><a href=\"http://purl.org/linked-data/cube#ComponentSpecification\" target=\"_other\">http://purl.org/linked-data/cube#ComponentSpecification</a></td></tr><tr class=even><td class=val><a href=\"http://gss-data.org.uk/data/gss_data/trade/hmrc-overseas-trade-statistics/hmrc-overseas-trade-statistics-sitc#component/country_id\" target=\"_other\">http://gss-data.org.uk/data/gss_data/trade/hmrc-overseas-trade-statistics/hmrc-overseas-trade-statistics-sitc#component/country_id</a></td>\n",
       "<td class=val><a href=\"http://purl.org/linked-data/cube#component\" target=\"_other\">http://purl.org/linked-data/cube#component</a></td>\n",
       "<td class=val><a href=\"http://purl.org/linked-data/cube#componentProperty\" target=\"_other\">http://purl.org/linked-data/cube#componentProperty</a></td>\n",
       "<td class=val><a href=\"http://gss-data.org.uk/data/gss_data/trade/hmrc-overseas-trade-statistics/hmrc-overseas-trade-statistics-sitc#dimension/country_id\" target=\"_other\">http://gss-data.org.uk/data/gss_data/trade/hmrc-overseas-trade-statistics/hmrc-overseas-trade-statistics-sitc#dimension/country_id</a></td></tr><tr class=odd><td class=val><a href=\"http://gss-data.org.uk/data/gss_data/trade/hmrc-overseas-trade-statistics/hmrc-overseas-trade-statistics-sitc#component/country_id\" target=\"_other\">http://gss-data.org.uk/data/gss_data/trade/hmrc-overseas-trade-statistics/hmrc-overseas-trade-statistics-sitc#component/country_id</a></td>\n",
       "<td class=val><a href=\"http://purl.org/linked-data/cube#component\" target=\"_other\">http://purl.org/linked-data/cube#component</a></td>\n",
       "<td class=val><a href=\"http://purl.org/linked-data/cube#dimension\" target=\"_other\">http://purl.org/linked-data/cube#dimension</a></td>\n",
       "<td class=val><a href=\"http://gss-data.org.uk/data/gss_data/trade/hmrc-overseas-trade-statistics/hmrc-overseas-trade-statistics-sitc#dimension/country_id\" target=\"_other\">http://gss-data.org.uk/data/gss_data/trade/hmrc-overseas-trade-statistics/hmrc-overseas-trade-statistics-sitc#dimension/country_id</a></td></tr><tr class=even><td class=val><a href=\"http://gss-data.org.uk/data/gss_data/trade/hmrc-overseas-trade-statistics/hmrc-overseas-trade-statistics-sitc#component/flow_type\" target=\"_other\">http://gss-data.org.uk/data/gss_data/trade/hmrc-overseas-trade-statistics/hmrc-overseas-trade-statistics-sitc#component/flow_type</a></td>\n",
       "<td class=val><a href=\"http://purl.org/linked-data/cube#component\" target=\"_other\">http://purl.org/linked-data/cube#component</a></td>\n",
       "<td class=val><a href=\"http://www.w3.org/1999/02/22-rdf-syntax-ns#type\" target=\"_other\">http://www.w3.org/1999/02/22-rdf-syntax-ns#type</a></td>\n",
       "<td class=val><a href=\"http://purl.org/linked-data/cube#ComponentSpecification\" target=\"_other\">http://purl.org/linked-data/cube#ComponentSpecification</a></td></tr><tr class=odd><td class=val><a href=\"http://gss-data.org.uk/data/gss_data/trade/hmrc-overseas-trade-statistics/hmrc-overseas-trade-statistics-sitc#component/flow_type\" target=\"_other\">http://gss-data.org.uk/data/gss_data/trade/hmrc-overseas-trade-statistics/hmrc-overseas-trade-statistics-sitc#component/flow_type</a></td>\n",
       "<td class=val><a href=\"http://purl.org/linked-data/cube#component\" target=\"_other\">http://purl.org/linked-data/cube#component</a></td>\n",
       "<td class=val><a href=\"http://purl.org/linked-data/cube#componentProperty\" target=\"_other\">http://purl.org/linked-data/cube#componentProperty</a></td>\n",
       "<td class=val><a href=\"http://gss-data.org.uk/data/gss_data/trade/hmrc-overseas-trade-statistics/hmrc-overseas-trade-statistics-sitc#dimension/flow_type\" target=\"_other\">http://gss-data.org.uk/data/gss_data/trade/hmrc-overseas-trade-statistics/hmrc-overseas-trade-statistics-sitc#dimension/flow_type</a></td></tr><tr class=even><td class=val><a href=\"http://gss-data.org.uk/data/gss_data/trade/hmrc-overseas-trade-statistics/hmrc-overseas-trade-statistics-sitc#component/flow_type\" target=\"_other\">http://gss-data.org.uk/data/gss_data/trade/hmrc-overseas-trade-statistics/hmrc-overseas-trade-statistics-sitc#component/flow_type</a></td>\n",
       "<td class=val><a href=\"http://purl.org/linked-data/cube#component\" target=\"_other\">http://purl.org/linked-data/cube#component</a></td>\n",
       "<td class=val><a href=\"http://purl.org/linked-data/cube#dimension\" target=\"_other\">http://purl.org/linked-data/cube#dimension</a></td>\n",
       "<td class=val><a href=\"http://gss-data.org.uk/data/gss_data/trade/hmrc-overseas-trade-statistics/hmrc-overseas-trade-statistics-sitc#dimension/flow_type\" target=\"_other\">http://gss-data.org.uk/data/gss_data/trade/hmrc-overseas-trade-statistics/hmrc-overseas-trade-statistics-sitc#dimension/flow_type</a></td></tr><tr class=odd><td class=val><a href=\"http://gss-data.org.uk/data/gss_data/trade/hmrc-overseas-trade-statistics/hmrc-overseas-trade-statistics-sitc#component/sitc_id\" target=\"_other\">http://gss-data.org.uk/data/gss_data/trade/hmrc-overseas-trade-statistics/hmrc-overseas-trade-statistics-sitc#component/sitc_id</a></td>\n",
       "<td class=val><a href=\"http://purl.org/linked-data/cube#component\" target=\"_other\">http://purl.org/linked-data/cube#component</a></td>\n",
       "<td class=val><a href=\"http://www.w3.org/1999/02/22-rdf-syntax-ns#type\" target=\"_other\">http://www.w3.org/1999/02/22-rdf-syntax-ns#type</a></td>\n",
       "<td class=val><a href=\"http://purl.org/linked-data/cube#ComponentSpecification\" target=\"_other\">http://purl.org/linked-data/cube#ComponentSpecification</a></td></tr><tr class=even><td class=val><a href=\"http://gss-data.org.uk/data/gss_data/trade/hmrc-overseas-trade-statistics/hmrc-overseas-trade-statistics-sitc#component/sitc_id\" target=\"_other\">http://gss-data.org.uk/data/gss_data/trade/hmrc-overseas-trade-statistics/hmrc-overseas-trade-statistics-sitc#component/sitc_id</a></td>\n",
       "<td class=val><a href=\"http://purl.org/linked-data/cube#component\" target=\"_other\">http://purl.org/linked-data/cube#component</a></td>\n",
       "<td class=val><a href=\"http://purl.org/linked-data/cube#componentProperty\" target=\"_other\">http://purl.org/linked-data/cube#componentProperty</a></td>\n",
       "<td class=val><a href=\"http://gss-data.org.uk/data/gss_data/trade/hmrc-overseas-trade-statistics/hmrc-overseas-trade-statistics-sitc#dimension/sitc_id\" target=\"_other\">http://gss-data.org.uk/data/gss_data/trade/hmrc-overseas-trade-statistics/hmrc-overseas-trade-statistics-sitc#dimension/sitc_id</a></td></tr><tr class=odd><td class=val><a href=\"http://gss-data.org.uk/data/gss_data/trade/hmrc-overseas-trade-statistics/hmrc-overseas-trade-statistics-sitc#component/sitc_id\" target=\"_other\">http://gss-data.org.uk/data/gss_data/trade/hmrc-overseas-trade-statistics/hmrc-overseas-trade-statistics-sitc#component/sitc_id</a></td>\n",
       "<td class=val><a href=\"http://purl.org/linked-data/cube#component\" target=\"_other\">http://purl.org/linked-data/cube#component</a></td>\n",
       "<td class=val><a href=\"http://purl.org/linked-data/cube#dimension\" target=\"_other\">http://purl.org/linked-data/cube#dimension</a></td>\n",
       "<td class=val><a href=\"http://gss-data.org.uk/data/gss_data/trade/hmrc-overseas-trade-statistics/hmrc-overseas-trade-statistics-sitc#dimension/sitc_id\" target=\"_other\">http://gss-data.org.uk/data/gss_data/trade/hmrc-overseas-trade-statistics/hmrc-overseas-trade-statistics-sitc#dimension/sitc_id</a></td></tr><tr class=even><td class=val><a href=\"http://gss-data.org.uk/data/gss_data/trade/hmrc-overseas-trade-statistics/hmrc-overseas-trade-statistics-sitc#component/port\" target=\"_other\">http://gss-data.org.uk/data/gss_data/trade/hmrc-overseas-trade-statistics/hmrc-overseas-trade-statistics-sitc#component/port</a></td>\n",
       "<td class=val><a href=\"http://purl.org/linked-data/cube#component\" target=\"_other\">http://purl.org/linked-data/cube#component</a></td>\n",
       "<td class=val><a href=\"http://www.w3.org/1999/02/22-rdf-syntax-ns#type\" target=\"_other\">http://www.w3.org/1999/02/22-rdf-syntax-ns#type</a></td>\n",
       "<td class=val><a href=\"http://purl.org/linked-data/cube#ComponentSpecification\" target=\"_other\">http://purl.org/linked-data/cube#ComponentSpecification</a></td></tr><tr class=odd><td class=val><a href=\"http://gss-data.org.uk/data/gss_data/trade/hmrc-overseas-trade-statistics/hmrc-overseas-trade-statistics-sitc#component/port\" target=\"_other\">http://gss-data.org.uk/data/gss_data/trade/hmrc-overseas-trade-statistics/hmrc-overseas-trade-statistics-sitc#component/port</a></td>\n",
       "<td class=val><a href=\"http://purl.org/linked-data/cube#component\" target=\"_other\">http://purl.org/linked-data/cube#component</a></td>\n",
       "<td class=val><a href=\"http://purl.org/linked-data/cube#componentProperty\" target=\"_other\">http://purl.org/linked-data/cube#componentProperty</a></td>\n",
       "<td class=val><a href=\"http://gss-data.org.uk/data/gss_data/trade/hmrc-overseas-trade-statistics/hmrc-overseas-trade-statistics-sitc#dimension/port\" target=\"_other\">http://gss-data.org.uk/data/gss_data/trade/hmrc-overseas-trade-statistics/hmrc-overseas-trade-statistics-sitc#dimension/port</a></td></tr><tr class=even><td class=val><a href=\"http://gss-data.org.uk/data/gss_data/trade/hmrc-overseas-trade-statistics/hmrc-overseas-trade-statistics-sitc#component/port\" target=\"_other\">http://gss-data.org.uk/data/gss_data/trade/hmrc-overseas-trade-statistics/hmrc-overseas-trade-statistics-sitc#component/port</a></td>\n",
       "<td class=val><a href=\"http://purl.org/linked-data/cube#component\" target=\"_other\">http://purl.org/linked-data/cube#component</a></td>\n",
       "<td class=val><a href=\"http://purl.org/linked-data/cube#dimension\" target=\"_other\">http://purl.org/linked-data/cube#dimension</a></td>\n",
       "<td class=val><a href=\"http://gss-data.org.uk/data/gss_data/trade/hmrc-overseas-trade-statistics/hmrc-overseas-trade-statistics-sitc#dimension/port\" target=\"_other\">http://gss-data.org.uk/data/gss_data/trade/hmrc-overseas-trade-statistics/hmrc-overseas-trade-statistics-sitc#dimension/port</a></td></tr><tr class=odd><td class=val><a href=\"http://gss-data.org.uk/data/gss_data/trade/hmrc-overseas-trade-statistics/hmrc-overseas-trade-statistics-sitc#component/period\" target=\"_other\">http://gss-data.org.uk/data/gss_data/trade/hmrc-overseas-trade-statistics/hmrc-overseas-trade-statistics-sitc#component/period</a></td>\n",
       "<td class=val><a href=\"http://purl.org/linked-data/cube#component\" target=\"_other\">http://purl.org/linked-data/cube#component</a></td>\n",
       "<td class=val><a href=\"http://www.w3.org/1999/02/22-rdf-syntax-ns#type\" target=\"_other\">http://www.w3.org/1999/02/22-rdf-syntax-ns#type</a></td>\n",
       "<td class=val><a href=\"http://purl.org/linked-data/cube#ComponentSpecification\" target=\"_other\">http://purl.org/linked-data/cube#ComponentSpecification</a></td></tr><tr class=even><td class=val><a href=\"http://gss-data.org.uk/data/gss_data/trade/hmrc-overseas-trade-statistics/hmrc-overseas-trade-statistics-sitc#component/period\" target=\"_other\">http://gss-data.org.uk/data/gss_data/trade/hmrc-overseas-trade-statistics/hmrc-overseas-trade-statistics-sitc#component/period</a></td>\n",
       "<td class=val><a href=\"http://purl.org/linked-data/cube#component\" target=\"_other\">http://purl.org/linked-data/cube#component</a></td>\n",
       "<td class=val><a href=\"http://purl.org/linked-data/cube#componentProperty\" target=\"_other\">http://purl.org/linked-data/cube#componentProperty</a></td>\n",
       "<td class=val><a href=\"http://gss-data.org.uk/data/gss_data/trade/hmrc-overseas-trade-statistics/hmrc-overseas-trade-statistics-sitc#dimension/period\" target=\"_other\">http://gss-data.org.uk/data/gss_data/trade/hmrc-overseas-trade-statistics/hmrc-overseas-trade-statistics-sitc#dimension/period</a></td></tr></table><div class=\"tinfo\">Total: 27, Shown: 20</div></div>"
      ]
     },
     "metadata": {}
    }
   ],
   "metadata": {}
  },
  {
   "cell_type": "code",
   "execution_count": 4,
   "source": [
    "DESCRIBE <http://gss-data.org.uk/data/gss_data/trade/hmrc-overseas-trade-statistics/hmrc-overseas-trade-statistics-sitc#component/period>\n",
    "\n"
   ],
   "outputs": [
    {
     "output_type": "display_data",
     "data": {
      "text/html": [
       "<div class=\"krn-spql\"><table><tr class=hdr><th>subject</th>\n",
       "<th>predicate</th>\n",
       "<th>object</th></tr><tr class=odd><td class=val><a href=\"http://gss-data.org.uk/data/gss_data/trade/hmrc-overseas-trade-statistics/hmrc-overseas-trade-statistics-sitc#component/period\" target=\"_other\">http://gss-data.org.uk/data/gss_data/trade/hmrc-overseas-trade-statistics/hmrc-overseas-trade-statistics-sitc#component/period</a></td>\n",
       "<td class=val><a href=\"http://purl.org/linked-data/cube#dimension\" target=\"_other\">http://purl.org/linked-data/cube#dimension</a></td>\n",
       "<td class=val><a href=\"http://gss-data.org.uk/data/gss_data/trade/hmrc-overseas-trade-statistics/hmrc-overseas-trade-statistics-sitc#dimension/period\" target=\"_other\">http://gss-data.org.uk/data/gss_data/trade/hmrc-overseas-trade-statistics/hmrc-overseas-trade-statistics-sitc#dimension/period</a></td></tr><tr class=even><td class=val><a href=\"http://gss-data.org.uk/data/gss_data/trade/hmrc-overseas-trade-statistics/hmrc-overseas-trade-statistics-sitc#component/period\" target=\"_other\">http://gss-data.org.uk/data/gss_data/trade/hmrc-overseas-trade-statistics/hmrc-overseas-trade-statistics-sitc#component/period</a></td>\n",
       "<td class=val><a href=\"http://www.w3.org/1999/02/22-rdf-syntax-ns#type\" target=\"_other\">http://www.w3.org/1999/02/22-rdf-syntax-ns#type</a></td>\n",
       "<td class=val><a href=\"http://purl.org/linked-data/cube#ComponentSpecification\" target=\"_other\">http://purl.org/linked-data/cube#ComponentSpecification</a></td></tr><tr class=odd><td class=val><a href=\"http://gss-data.org.uk/data/gss_data/trade/hmrc-overseas-trade-statistics/hmrc-overseas-trade-statistics-sitc#component/period\" target=\"_other\">http://gss-data.org.uk/data/gss_data/trade/hmrc-overseas-trade-statistics/hmrc-overseas-trade-statistics-sitc#component/period</a></td>\n",
       "<td class=val><a href=\"http://purl.org/linked-data/cube#componentProperty\" target=\"_other\">http://purl.org/linked-data/cube#componentProperty</a></td>\n",
       "<td class=val><a href=\"http://gss-data.org.uk/data/gss_data/trade/hmrc-overseas-trade-statistics/hmrc-overseas-trade-statistics-sitc#dimension/period\" target=\"_other\">http://gss-data.org.uk/data/gss_data/trade/hmrc-overseas-trade-statistics/hmrc-overseas-trade-statistics-sitc#dimension/period</a></td></tr></table><div class=\"tinfo\">Shown: 3, Total rows: 3</div></div>"
      ]
     },
     "metadata": {}
    }
   ],
   "metadata": {}
  },
  {
   "cell_type": "code",
   "execution_count": 5,
   "source": [
    "DESCRIBE <http://gss-data.org.uk/data/gss_data/trade/hmrc-overseas-trade-statistics/hmrc-overseas-trade-statistics-sitc-catalog-entry>"
   ],
   "outputs": [
    {
     "output_type": "display_data",
     "data": {
      "text/html": [
       "<div class=\"krn-spql\"><table><tr class=hdr><th>subject</th>\n",
       "<th>predicate</th>\n",
       "<th>object</th></tr><tr class=odd><td class=val><a href=\"http://gss-data.org.uk/data/gss_data/trade/hmrc-overseas-trade-statistics/hmrc-overseas-trade-statistics-sitc-catalog-entry\" target=\"_other\">http://gss-data.org.uk/data/gss_data/trade/hmrc-overseas-trade-statistics/hmrc-overseas-trade-statistics-sitc-catalog-entry</a></td>\n",
       "<td class=val><a href=\"http://purl.org/dc/terms/description\" target=\"_other\">http://purl.org/dc/terms/description</a></td>\n",
       "<td class=val>OTS are compiled monthly, quarterly and annually from trade declarations made using commodity codes from the UN Tariff (HS Nomenclature) and its EU derivative, the Intrastat Classification Nomenclature. These provide an eight-digit numeric codification for all products traded around the world. For each commodity declared, businesses must provide details of the quantity and statistical value in GB Pounds Sterling, the destination country (exports) and country of despatch (imports), and for some codes, a second quantity (supplementary unit).</td></tr><tr class=even><td class=val><a href=\"http://gss-data.org.uk/data/gss_data/trade/hmrc-overseas-trade-statistics/hmrc-overseas-trade-statistics-sitc-catalog-entry\" target=\"_other\">http://gss-data.org.uk/data/gss_data/trade/hmrc-overseas-trade-statistics/hmrc-overseas-trade-statistics-sitc-catalog-entry</a></td>\n",
       "<td class=val><a href=\"http://publishmydata.com/pmdcat#graph\" target=\"_other\">http://publishmydata.com/pmdcat#graph</a></td>\n",
       "<td class=val><a href=\"http://gss-data.org.uk/graph/gss_data/trade/hmrc-overseas-trade-statistics-sitc/202006\" target=\"_other\">http://gss-data.org.uk/graph/gss_data/trade/hmrc-overseas-trade-statistics-sitc/202006</a></td></tr><tr class=odd><td class=val><a href=\"http://gss-data.org.uk/data/gss_data/trade/hmrc-overseas-trade-statistics/hmrc-overseas-trade-statistics-sitc-catalog-entry\" target=\"_other\">http://gss-data.org.uk/data/gss_data/trade/hmrc-overseas-trade-statistics/hmrc-overseas-trade-statistics-sitc-catalog-entry</a></td>\n",
       "<td class=val><a href=\"http://purl.org/dc/terms/modified\" target=\"_other\">http://purl.org/dc/terms/modified</a></td>\n",
       "<td class=val>2021-05-18T11:44:10.047238+00:00</td></tr><tr class=even><td class=val><a href=\"http://gss-data.org.uk/data/gss_data/trade/hmrc-overseas-trade-statistics/hmrc-overseas-trade-statistics-sitc-catalog-entry\" target=\"_other\">http://gss-data.org.uk/data/gss_data/trade/hmrc-overseas-trade-statistics/hmrc-overseas-trade-statistics-sitc-catalog-entry</a></td>\n",
       "<td class=val><a href=\"http://publishmydata.com/pmdcat#graph\" target=\"_other\">http://publishmydata.com/pmdcat#graph</a></td>\n",
       "<td class=val><a href=\"http://gss-data.org.uk/graph/gss_data/trade/hmrc-overseas-trade-statistics-sitc/202102\" target=\"_other\">http://gss-data.org.uk/graph/gss_data/trade/hmrc-overseas-trade-statistics-sitc/202102</a></td></tr><tr class=odd><td class=val><a href=\"http://gss-data.org.uk/data/gss_data/trade/hmrc-overseas-trade-statistics/hmrc-overseas-trade-statistics-sitc-catalog-entry\" target=\"_other\">http://gss-data.org.uk/data/gss_data/trade/hmrc-overseas-trade-statistics/hmrc-overseas-trade-statistics-sitc-catalog-entry</a></td>\n",
       "<td class=val><a href=\"http://publishmydata.com/pmdcat#graph\" target=\"_other\">http://publishmydata.com/pmdcat#graph</a></td>\n",
       "<td class=val><a href=\"http://gss-data.org.uk/graph/gss_data/trade/hmrc-overseas-trade-statistics-sitc/202104\" target=\"_other\">http://gss-data.org.uk/graph/gss_data/trade/hmrc-overseas-trade-statistics-sitc/202104</a></td></tr><tr class=even><td class=val><a href=\"http://gss-data.org.uk/data/gss_data/trade/hmrc-overseas-trade-statistics/hmrc-overseas-trade-statistics-sitc-catalog-entry\" target=\"_other\">http://gss-data.org.uk/data/gss_data/trade/hmrc-overseas-trade-statistics/hmrc-overseas-trade-statistics-sitc-catalog-entry</a></td>\n",
       "<td class=val><a href=\"http://publishmydata.com/pmdcat#graph\" target=\"_other\">http://publishmydata.com/pmdcat#graph</a></td>\n",
       "<td class=val><a href=\"http://gss-data.org.uk/graph/gss_data/trade/hmrc-overseas-trade-statistics-sitc/202009\" target=\"_other\">http://gss-data.org.uk/graph/gss_data/trade/hmrc-overseas-trade-statistics-sitc/202009</a></td></tr><tr class=odd><td class=val><a href=\"http://gss-data.org.uk/data/gss_data/trade/hmrc-overseas-trade-statistics/hmrc-overseas-trade-statistics-sitc-catalog-entry\" target=\"_other\">http://gss-data.org.uk/data/gss_data/trade/hmrc-overseas-trade-statistics/hmrc-overseas-trade-statistics-sitc-catalog-entry</a></td>\n",
       "<td class=val><a href=\"http://www.w3.org/2000/01/rdf-schema#label\" target=\"_other\">http://www.w3.org/2000/01/rdf-schema#label</a></td>\n",
       "<td class=val>HMRC Overseas Trade Statistics - SITCv4</td></tr><tr class=even><td class=val><a href=\"http://gss-data.org.uk/data/gss_data/trade/hmrc-overseas-trade-statistics/hmrc-overseas-trade-statistics-sitc-catalog-entry\" target=\"_other\">http://gss-data.org.uk/data/gss_data/trade/hmrc-overseas-trade-statistics/hmrc-overseas-trade-statistics-sitc-catalog-entry</a></td>\n",
       "<td class=val><a href=\"http://publishmydata.com/pmdcat#graph\" target=\"_other\">http://publishmydata.com/pmdcat#graph</a></td>\n",
       "<td class=val><a href=\"http://gss-data.org.uk/graph/gss_data/trade/hmrc-overseas-trade-statistics-sitc/202005\" target=\"_other\">http://gss-data.org.uk/graph/gss_data/trade/hmrc-overseas-trade-statistics-sitc/202005</a></td></tr><tr class=odd><td class=val><a href=\"http://gss-data.org.uk/data/gss_data/trade/hmrc-overseas-trade-statistics/hmrc-overseas-trade-statistics-sitc-catalog-entry\" target=\"_other\">http://gss-data.org.uk/data/gss_data/trade/hmrc-overseas-trade-statistics/hmrc-overseas-trade-statistics-sitc-catalog-entry</a></td>\n",
       "<td class=val><a href=\"http://www.w3.org/1999/02/22-rdf-syntax-ns#type\" target=\"_other\">http://www.w3.org/1999/02/22-rdf-syntax-ns#type</a></td>\n",
       "<td class=val><a href=\"http://publishmydata.com/pmdcat#Dataset\" target=\"_other\">http://publishmydata.com/pmdcat#Dataset</a></td></tr><tr class=even><td class=val><a href=\"http://gss-data.org.uk/data/gss_data/trade/hmrc-overseas-trade-statistics/hmrc-overseas-trade-statistics-sitc-catalog-entry\" target=\"_other\">http://gss-data.org.uk/data/gss_data/trade/hmrc-overseas-trade-statistics/hmrc-overseas-trade-statistics-sitc-catalog-entry</a></td>\n",
       "<td class=val><a href=\"http://publishmydata.com/pmdcat#graph\" target=\"_other\">http://publishmydata.com/pmdcat#graph</a></td>\n",
       "<td class=val><a href=\"http://gss-data.org.uk/graph/gss_data/trade/hmrc-overseas-trade-statistics-sitc/202012\" target=\"_other\">http://gss-data.org.uk/graph/gss_data/trade/hmrc-overseas-trade-statistics-sitc/202012</a></td></tr><tr class=odd><td class=val><a href=\"http://gss-data.org.uk/data/gss_data/trade/hmrc-overseas-trade-statistics/hmrc-overseas-trade-statistics-sitc-catalog-entry\" target=\"_other\">http://gss-data.org.uk/data/gss_data/trade/hmrc-overseas-trade-statistics/hmrc-overseas-trade-statistics-sitc-catalog-entry</a></td>\n",
       "<td class=val><a href=\"http://purl.org/dc/terms/creator\" target=\"_other\">http://purl.org/dc/terms/creator</a></td>\n",
       "<td class=val><a href=\"https://www.gov.uk/government/organisations/hm-revenue-customs\" target=\"_other\">https://www.gov.uk/government/organisations/hm-revenue-customs</a></td></tr><tr class=even><td class=val><a href=\"http://gss-data.org.uk/data/gss_data/trade/hmrc-overseas-trade-statistics/hmrc-overseas-trade-statistics-sitc-catalog-entry\" target=\"_other\">http://gss-data.org.uk/data/gss_data/trade/hmrc-overseas-trade-statistics/hmrc-overseas-trade-statistics-sitc-catalog-entry</a></td>\n",
       "<td class=val><a href=\"http://publishmydata.com/pmdcat#graph\" target=\"_other\">http://publishmydata.com/pmdcat#graph</a></td>\n",
       "<td class=val><a href=\"http://gss-data.org.uk/graph/gss_data/trade/hmrc-overseas-trade-statistics/hmrc-overseas-trade-statistics-sitc\" target=\"_other\">http://gss-data.org.uk/graph/gss_data/trade/hmrc-overseas-trade-statistics/hmrc-overseas-trade-statistics-sitc</a></td></tr><tr class=odd><td class=val><a href=\"http://gss-data.org.uk/data/gss_data/trade/hmrc-overseas-trade-statistics/hmrc-overseas-trade-statistics-sitc-catalog-entry\" target=\"_other\">http://gss-data.org.uk/data/gss_data/trade/hmrc-overseas-trade-statistics/hmrc-overseas-trade-statistics-sitc-catalog-entry</a></td>\n",
       "<td class=val><a href=\"http://purl.org/dc/terms/title\" target=\"_other\">http://purl.org/dc/terms/title</a></td>\n",
       "<td class=val>HMRC Overseas Trade Statistics - SITCv4</td></tr><tr class=even><td class=val><a href=\"http://gss-data.org.uk/data/gss_data/trade/hmrc-overseas-trade-statistics/hmrc-overseas-trade-statistics-sitc-catalog-entry\" target=\"_other\">http://gss-data.org.uk/data/gss_data/trade/hmrc-overseas-trade-statistics/hmrc-overseas-trade-statistics-sitc-catalog-entry</a></td>\n",
       "<td class=val><a href=\"http://purl.org/dc/terms/publisher\" target=\"_other\">http://purl.org/dc/terms/publisher</a></td>\n",
       "<td class=val><a href=\"https://www.gov.uk/government/organisations/hm-revenue-customs\" target=\"_other\">https://www.gov.uk/government/organisations/hm-revenue-customs</a></td></tr><tr class=odd><td class=val><a href=\"http://gss-data.org.uk/data/gss_data/trade/hmrc-overseas-trade-statistics/hmrc-overseas-trade-statistics-sitc-catalog-entry\" target=\"_other\">http://gss-data.org.uk/data/gss_data/trade/hmrc-overseas-trade-statistics/hmrc-overseas-trade-statistics-sitc-catalog-entry</a></td>\n",
       "<td class=val><a href=\"http://purl.org/dc/terms/issued\" target=\"_other\">http://purl.org/dc/terms/issued</a></td>\n",
       "<td class=val>2018-03-08</td></tr><tr class=even><td class=val><a href=\"http://gss-data.org.uk/data/gss_data/trade/hmrc-overseas-trade-statistics/hmrc-overseas-trade-statistics-sitc-catalog-entry\" target=\"_other\">http://gss-data.org.uk/data/gss_data/trade/hmrc-overseas-trade-statistics/hmrc-overseas-trade-statistics-sitc-catalog-entry</a></td>\n",
       "<td class=val><a href=\"http://publishmydata.com/pmdcat#graph\" target=\"_other\">http://publishmydata.com/pmdcat#graph</a></td>\n",
       "<td class=val><a href=\"http://gss-data.org.uk/graph/gss_data/trade/hmrc-overseas-trade-statistics-sitc/202011\" target=\"_other\">http://gss-data.org.uk/graph/gss_data/trade/hmrc-overseas-trade-statistics-sitc/202011</a></td></tr><tr class=odd><td class=val><a href=\"http://gss-data.org.uk/data/gss_data/trade/hmrc-overseas-trade-statistics/hmrc-overseas-trade-statistics-sitc-catalog-entry\" target=\"_other\">http://gss-data.org.uk/data/gss_data/trade/hmrc-overseas-trade-statistics/hmrc-overseas-trade-statistics-sitc-catalog-entry</a></td>\n",
       "<td class=val><a href=\"http://www.w3.org/ns/dcat#landingPage\" target=\"_other\">http://www.w3.org/ns/dcat#landingPage</a></td>\n",
       "<td class=val><a href=\"https://www.uktradeinfo.com/trade-data/overseas/\" target=\"_other\">https://www.uktradeinfo.com/trade-data/overseas/</a></td></tr><tr class=even><td class=val><a href=\"http://gss-data.org.uk/data/gss_data/trade/hmrc-overseas-trade-statistics/hmrc-overseas-trade-statistics-sitc-catalog-entry\" target=\"_other\">http://gss-data.org.uk/data/gss_data/trade/hmrc-overseas-trade-statistics/hmrc-overseas-trade-statistics-sitc-catalog-entry</a></td>\n",
       "<td class=val><a href=\"http://publishmydata.com/pmdcat#graph\" target=\"_other\">http://publishmydata.com/pmdcat#graph</a></td>\n",
       "<td class=val><a href=\"http://gss-data.org.uk/graph/gss_data/trade/hmrc-overseas-trade-statistics-sitc/202010\" target=\"_other\">http://gss-data.org.uk/graph/gss_data/trade/hmrc-overseas-trade-statistics-sitc/202010</a></td></tr><tr class=odd><td class=val><a href=\"http://gss-data.org.uk/data/gss_data/trade/hmrc-overseas-trade-statistics/hmrc-overseas-trade-statistics-sitc-catalog-entry\" target=\"_other\">http://gss-data.org.uk/data/gss_data/trade/hmrc-overseas-trade-statistics/hmrc-overseas-trade-statistics-sitc-catalog-entry</a></td>\n",
       "<td class=val><a href=\"http://rdfs.org/ns/void#sparqlEndpoint\" target=\"_other\">http://rdfs.org/ns/void#sparqlEndpoint</a></td>\n",
       "<td class=val><a href=\"http://gss-data.org.uk/sparql\" target=\"_other\">http://gss-data.org.uk/sparql</a></td></tr><tr class=even><td class=val><a href=\"http://gss-data.org.uk/data/gss_data/trade/hmrc-overseas-trade-statistics/hmrc-overseas-trade-statistics-sitc-catalog-entry\" target=\"_other\">http://gss-data.org.uk/data/gss_data/trade/hmrc-overseas-trade-statistics/hmrc-overseas-trade-statistics-sitc-catalog-entry</a></td>\n",
       "<td class=val><a href=\"http://publishmydata.com/pmdcat#graph\" target=\"_other\">http://publishmydata.com/pmdcat#graph</a></td>\n",
       "<td class=val><a href=\"http://gss-data.org.uk/graph/gss_data/trade/hmrc-overseas-trade-statistics-sitc/202007\" target=\"_other\">http://gss-data.org.uk/graph/gss_data/trade/hmrc-overseas-trade-statistics-sitc/202007</a></td></tr></table><div class=\"tinfo\">Shown: 20, Total rows: 25</div></div>"
      ]
     },
     "metadata": {}
    }
   ],
   "metadata": {}
  },
  {
   "cell_type": "code",
   "execution_count": null,
   "source": [
    "DESCRIBE <http://gss-data.org.uk/graph/gss_data/trade/hmrc-overseas-trade-statistics-sitc/201910>"
   ],
   "outputs": [
    {
     "output_type": "display_data",
     "data": {
      "text/html": [
       "<div class=\"krn-spql\"><table><tr class=hdr><th>subject</th>\n",
       "<th>predicate</th>\n",
       "<th>object</th></tr><tr class=odd><td class=val><a href=\"http://gss-data.org.uk/graph/gss_data/trade/hmrc-overseas-trade-statistics-sitc/201910\" target=\"_other\">http://gss-data.org.uk/graph/gss_data/trade/hmrc-overseas-trade-statistics-sitc/201910</a></td>\n",
       "<td class=val><a href=\"http://www.w3.org/ns/sparql-service-description#name\" target=\"_other\">http://www.w3.org/ns/sparql-service-description#name</a></td>\n",
       "<td class=val><a href=\"http://publishmydata.com/graphs/drafter/draft/1f87a9a7-033c-448f-90d8-0d2358d2a372\" target=\"_other\">http://publishmydata.com/graphs/drafter/draft/1f87a9a7-033c-448f-90d8-0d2358d2a372</a></td></tr><tr class=even><td class=val><a href=\"http://gss-data.org.uk/graph/gss_data/trade/hmrc-overseas-trade-statistics-sitc/201910\" target=\"_other\">http://gss-data.org.uk/graph/gss_data/trade/hmrc-overseas-trade-statistics-sitc/201910</a></td>\n",
       "<td class=val><a href=\"http://www.w3.org/1999/02/22-rdf-syntax-ns#type\" target=\"_other\">http://www.w3.org/1999/02/22-rdf-syntax-ns#type</a></td>\n",
       "<td class=val><a href=\"http://www.w3.org/ns/sparql-service-description#NamedGraph\" target=\"_other\">http://www.w3.org/ns/sparql-service-description#NamedGraph</a></td></tr><tr class=odd><td class=val><a href=\"http://gss-data.org.uk/graph/gss_data/trade/hmrc-overseas-trade-statistics-sitc/201910\" target=\"_other\">http://gss-data.org.uk/graph/gss_data/trade/hmrc-overseas-trade-statistics-sitc/201910</a></td>\n",
       "<td class=val><a href=\"http://www.w3.org/ns/prov#wasGeneratedBy\" target=\"_other\">http://www.w3.org/ns/prov#wasGeneratedBy</a></td>\n",
       "<td class=val><a href=\"https://ci.floop.org.uk/job/GSS_data/job/beta.gss-data.org.uk/job/family/job/trade/job/HMRC-overseas-trade-statistics/41/\" target=\"_other\">https://ci.floop.org.uk/job/GSS_data/job/beta.gss-data.org.uk/job/family/job/trade/job/HMRC-overseas-trade-statistics/41/</a></td></tr></table><div class=\"tinfo\">Shown: 3, Total rows: 3</div></div>"
      ]
     },
     "metadata": {}
    }
   ],
   "metadata": {}
  },
  {
   "cell_type": "code",
   "execution_count": null,
   "source": [
    "DESCRIBE <http://gss-data.org.uk/data/gss_data/trade/hmrc-overseas-trade-statistics/hmrc-overseas-trade-statistics-sitc#dataset>"
   ],
   "outputs": [
    {
     "output_type": "display_data",
     "data": {
      "text/html": [
       "<div class=\"krn-spql\"><table><tr class=hdr><th>subject</th>\n",
       "<th>predicate</th>\n",
       "<th>object</th></tr><tr class=odd><td class=val><a href=\"http://gss-data.org.uk/data/gss_data/trade/hmrc-overseas-trade-statistics/hmrc-overseas-trade-statistics-sitc#dataset\" target=\"_other\">http://gss-data.org.uk/data/gss_data/trade/hmrc-overseas-trade-statistics/hmrc-overseas-trade-statistics-sitc#dataset</a></td>\n",
       "<td class=val><a href=\"http://purl.org/linked-data/cube#structure\" target=\"_other\">http://purl.org/linked-data/cube#structure</a></td>\n",
       "<td class=val><a href=\"http://gss-data.org.uk/data/gss_data/trade/hmrc-overseas-trade-statistics/hmrc-overseas-trade-statistics-sitc#structure\" target=\"_other\">http://gss-data.org.uk/data/gss_data/trade/hmrc-overseas-trade-statistics/hmrc-overseas-trade-statistics-sitc#structure</a></td></tr><tr class=even><td class=val><a href=\"http://gss-data.org.uk/data/gss_data/trade/hmrc-overseas-trade-statistics/hmrc-overseas-trade-statistics-sitc#dataset\" target=\"_other\">http://gss-data.org.uk/data/gss_data/trade/hmrc-overseas-trade-statistics/hmrc-overseas-trade-statistics-sitc#dataset</a></td>\n",
       "<td class=val><a href=\"http://www.w3.org/1999/02/22-rdf-syntax-ns#type\" target=\"_other\">http://www.w3.org/1999/02/22-rdf-syntax-ns#type</a></td>\n",
       "<td class=val><a href=\"http://publishmydata.com/pmdcat#DataCube\" target=\"_other\">http://publishmydata.com/pmdcat#DataCube</a></td></tr><tr class=odd><td class=val><a href=\"http://gss-data.org.uk/data/gss_data/trade/hmrc-overseas-trade-statistics/hmrc-overseas-trade-statistics-sitc#dataset\" target=\"_other\">http://gss-data.org.uk/data/gss_data/trade/hmrc-overseas-trade-statistics/hmrc-overseas-trade-statistics-sitc#dataset</a></td>\n",
       "<td class=val><a href=\"http://www.w3.org/1999/02/22-rdf-syntax-ns#type\" target=\"_other\">http://www.w3.org/1999/02/22-rdf-syntax-ns#type</a></td>\n",
       "<td class=val><a href=\"http://purl.org/linked-data/cube#DataSet\" target=\"_other\">http://purl.org/linked-data/cube#DataSet</a></td></tr></table><div class=\"tinfo\">Shown: 3, Total rows: 3</div></div>"
      ]
     },
     "metadata": {}
    }
   ],
   "metadata": {}
  },
  {
   "cell_type": "code",
   "execution_count": null,
   "source": [
    "PREFIX dcat: <http://www.w3.org/ns/dcat#>\n",
    "PREFIX dcterms: <http://purl.org/dc/terms/>\n",
    "PREFIX owl: <http://www.w3.org/2002/07/owl#>\n",
    "PREFIX qb: <http://purl.org/linked-data/cube#>\n",
    "PREFIX rdf: <http://www.w3.org/1999/02/22-rdf-syntax-ns#>\n",
    "PREFIX rdfs: <http://www.w3.org/2000/01/rdf-schema#>\n",
    "PREFIX skos: <http://www.w3.org/2004/02/skos/core#>\n",
    "PREFIX void: <http://rdfs.org/ns/void#>\n",
    "PREFIX xsd: <http://www.w3.org/2001/XMLSchema#>\n",
    "\n",
    "# For a given dataset, select its components\n",
    "\n",
    "SELECT DISTINCT * \n",
    "WHERE {\n",
    "    BIND(<http://gss-data.org.uk/data/gss_data/edvp/ofgem-warm-home-discount-scheme/nationexpenditure#dataset> as ?dataset)\n",
    "        ?dataset    qb:structure/qb:component   ?component .\n",
    "        ?component  qb:componentProperty        ?componentProperty .\n",
    "        ?componentProperty rdf:type             ?type .\n",
    "        OPTIONAL {\n",
    "            ?component  qb:measure/rdfs:label   ?label .\n",
    "            \n",
    "        }\n",
    "        OPTIONAL {\n",
    "            ?component  qb:dimension            ?dimension .\n",
    "            ?dimension  rdfs:label              ?label .\n",
    "            OPTIONAL {\n",
    "                ?dimension rdfs:subPropertyOf+ ?subPropertyOf .\n",
    "            }\n",
    "            OPTIONAL {\n",
    "                ?dimension qb:codeList ?codeList\n",
    "            }\n",
    "        }\n",
    "        OPTIONAL {\n",
    "            ?component   qb:attribute/rdfs:label ?label .\n",
    "        }\n",
    "        FILTER (?type != <http://www.w3.org/1999/02/22-rdf-syntax-ns#Property>)\n",
    "}"
   ],
   "outputs": [
    {
     "output_type": "display_data",
     "data": {
      "text/html": [
       "<div class=\"krn-spql\"><table><tr class=hdr><th>dataset</th>\n",
       "<th>component</th>\n",
       "<th>componentProperty</th>\n",
       "<th>type</th>\n",
       "<th>label</th>\n",
       "<th>dimension</th>\n",
       "<th>subPropertyOf</th>\n",
       "<th>codeList</th></tr><tr class=odd><td class=val><a href=\"http://gss-data.org.uk/data/gss_data/edvp/ofgem-warm-home-discount-scheme/nationexpenditure#dataset\" target=\"_other\">http://gss-data.org.uk/data/gss_data/edvp/ofgem-warm-home-discount-scheme/nationexpenditure#dataset</a></td>\n",
       "<td class=val><a href=\"http://gss-data.org.uk/data/gss_data/edvp/ofgem-warm-home-discount-scheme/nationexpenditure#component/measure_type\" target=\"_other\">http://gss-data.org.uk/data/gss_data/edvp/ofgem-warm-home-discount-scheme/nationexpenditure#component/measure_type</a></td>\n",
       "<td class=val><a href=\"http://purl.org/linked-data/cube#measureType\" target=\"_other\">http://purl.org/linked-data/cube#measureType</a></td>\n",
       "<td class=val><a href=\"http://purl.org/linked-data/cube#DimensionProperty\" target=\"_other\">http://purl.org/linked-data/cube#DimensionProperty</a></td>\n",
       "<td class=val>Measure type</td>\n",
       "<td class=val><a href=\"http://purl.org/linked-data/cube#measureType\" target=\"_other\">http://purl.org/linked-data/cube#measureType</a></td>\n",
       "<td class=val></td>\n",
       "<td class=val></td></tr><tr class=even><td class=val><a href=\"http://gss-data.org.uk/data/gss_data/edvp/ofgem-warm-home-discount-scheme/nationexpenditure#dataset\" target=\"_other\">http://gss-data.org.uk/data/gss_data/edvp/ofgem-warm-home-discount-scheme/nationexpenditure#dataset</a></td>\n",
       "<td class=val><a href=\"http://gss-data.org.uk/data/gss_data/edvp/ofgem-warm-home-discount-scheme/nationexpenditure#component/unit\" target=\"_other\">http://gss-data.org.uk/data/gss_data/edvp/ofgem-warm-home-discount-scheme/nationexpenditure#component/unit</a></td>\n",
       "<td class=val><a href=\"http://purl.org/linked-data/sdmx/2009/attribute#unitMeasure\" target=\"_other\">http://purl.org/linked-data/sdmx/2009/attribute#unitMeasure</a></td>\n",
       "<td class=val><a href=\"http://purl.org/linked-data/cube#AttributeProperty\" target=\"_other\">http://purl.org/linked-data/cube#AttributeProperty</a></td>\n",
       "<td class=val>Unit of Measure</td>\n",
       "<td class=val></td>\n",
       "<td class=val></td>\n",
       "<td class=val></td></tr><tr class=odd><td class=val><a href=\"http://gss-data.org.uk/data/gss_data/edvp/ofgem-warm-home-discount-scheme/nationexpenditure#dataset\" target=\"_other\">http://gss-data.org.uk/data/gss_data/edvp/ofgem-warm-home-discount-scheme/nationexpenditure#dataset</a></td>\n",
       "<td class=val><a href=\"http://gss-data.org.uk/data/gss_data/edvp/ofgem-warm-home-discount-scheme/nationexpenditure#component/period\" target=\"_other\">http://gss-data.org.uk/data/gss_data/edvp/ofgem-warm-home-discount-scheme/nationexpenditure#component/period</a></td>\n",
       "<td class=val><a href=\"http://gss-data.org.uk/data/gss_data/edvp/ofgem-warm-home-discount-scheme/nationexpenditure#dimension/period\" target=\"_other\">http://gss-data.org.uk/data/gss_data/edvp/ofgem-warm-home-discount-scheme/nationexpenditure#dimension/period</a></td>\n",
       "<td class=val><a href=\"http://purl.org/linked-data/cube#DimensionProperty\" target=\"_other\">http://purl.org/linked-data/cube#DimensionProperty</a></td>\n",
       "<td class=val>Period</td>\n",
       "<td class=val><a href=\"http://gss-data.org.uk/data/gss_data/edvp/ofgem-warm-home-discount-scheme/nationexpenditure#dimension/period\" target=\"_other\">http://gss-data.org.uk/data/gss_data/edvp/ofgem-warm-home-discount-scheme/nationexpenditure#dimension/period</a></td>\n",
       "<td class=val><a href=\"http://purl.org/linked-data/sdmx/2009/dimension#refPeriod\" target=\"_other\">http://purl.org/linked-data/sdmx/2009/dimension#refPeriod</a></td>\n",
       "<td class=val></td></tr><tr class=even><td class=val><a href=\"http://gss-data.org.uk/data/gss_data/edvp/ofgem-warm-home-discount-scheme/nationexpenditure#dataset\" target=\"_other\">http://gss-data.org.uk/data/gss_data/edvp/ofgem-warm-home-discount-scheme/nationexpenditure#dataset</a></td>\n",
       "<td class=val><a href=\"http://gss-data.org.uk/data/gss_data/edvp/ofgem-warm-home-discount-scheme/nationexpenditure#component/scheme-year\" target=\"_other\">http://gss-data.org.uk/data/gss_data/edvp/ofgem-warm-home-discount-scheme/nationexpenditure#component/scheme-year</a></td>\n",
       "<td class=val><a href=\"http://gss-data.org.uk/data/gss_data/edvp/ofgem-warm-home-discount-scheme/nationexpenditure#dimension/scheme-year\" target=\"_other\">http://gss-data.org.uk/data/gss_data/edvp/ofgem-warm-home-discount-scheme/nationexpenditure#dimension/scheme-year</a></td>\n",
       "<td class=val><a href=\"http://purl.org/linked-data/cube#DimensionProperty\" target=\"_other\">http://purl.org/linked-data/cube#DimensionProperty</a></td>\n",
       "<td class=val>Scheme Year</td>\n",
       "<td class=val><a href=\"http://gss-data.org.uk/data/gss_data/edvp/ofgem-warm-home-discount-scheme/nationexpenditure#dimension/scheme-year\" target=\"_other\">http://gss-data.org.uk/data/gss_data/edvp/ofgem-warm-home-discount-scheme/nationexpenditure#dimension/scheme-year</a></td>\n",
       "<td class=val></td>\n",
       "<td class=val><a href=\"http://gss-data.org.uk/data/gss_data/edvp/ofgem-warm-home-discount-scheme#scheme/scheme-year\" target=\"_other\">http://gss-data.org.uk/data/gss_data/edvp/ofgem-warm-home-discount-scheme#scheme/scheme-year</a></td></tr><tr class=odd><td class=val><a href=\"http://gss-data.org.uk/data/gss_data/edvp/ofgem-warm-home-discount-scheme/nationexpenditure#dataset\" target=\"_other\">http://gss-data.org.uk/data/gss_data/edvp/ofgem-warm-home-discount-scheme/nationexpenditure#dataset</a></td>\n",
       "<td class=val><a href=\"http://gss-data.org.uk/data/gss_data/edvp/ofgem-warm-home-discount-scheme/nationexpenditure#component/nation\" target=\"_other\">http://gss-data.org.uk/data/gss_data/edvp/ofgem-warm-home-discount-scheme/nationexpenditure#component/nation</a></td>\n",
       "<td class=val><a href=\"http://gss-data.org.uk/data/gss_data/edvp/ofgem-warm-home-discount-scheme/nationexpenditure#dimension/nation\" target=\"_other\">http://gss-data.org.uk/data/gss_data/edvp/ofgem-warm-home-discount-scheme/nationexpenditure#dimension/nation</a></td>\n",
       "<td class=val><a href=\"http://purl.org/linked-data/cube#DimensionProperty\" target=\"_other\">http://purl.org/linked-data/cube#DimensionProperty</a></td>\n",
       "<td class=val>Nation</td>\n",
       "<td class=val><a href=\"http://gss-data.org.uk/data/gss_data/edvp/ofgem-warm-home-discount-scheme/nationexpenditure#dimension/nation\" target=\"_other\">http://gss-data.org.uk/data/gss_data/edvp/ofgem-warm-home-discount-scheme/nationexpenditure#dimension/nation</a></td>\n",
       "<td class=val><a href=\"http://purl.org/linked-data/sdmx/2009/dimension#refArea\" target=\"_other\">http://purl.org/linked-data/sdmx/2009/dimension#refArea</a></td>\n",
       "<td class=val></td></tr><tr class=even><td class=val><a href=\"http://gss-data.org.uk/data/gss_data/edvp/ofgem-warm-home-discount-scheme/nationexpenditure#dataset\" target=\"_other\">http://gss-data.org.uk/data/gss_data/edvp/ofgem-warm-home-discount-scheme/nationexpenditure#dataset</a></td>\n",
       "<td class=val><a href=\"http://gss-data.org.uk/data/gss_data/edvp/ofgem-warm-home-discount-scheme/nationexpenditure#component/value\" target=\"_other\">http://gss-data.org.uk/data/gss_data/edvp/ofgem-warm-home-discount-scheme/nationexpenditure#component/value</a></td>\n",
       "<td class=val><a href=\"http://gss-data.org.uk/def/measure/expenditure\" target=\"_other\">http://gss-data.org.uk/def/measure/expenditure</a></td>\n",
       "<td class=val><a href=\"http://purl.org/linked-data/cube#MeasureProperty\" target=\"_other\">http://purl.org/linked-data/cube#MeasureProperty</a></td>\n",
       "<td class=val>Expenditure</td>\n",
       "<td class=val></td>\n",
       "<td class=val></td>\n",
       "<td class=val></td></tr></table><div class=\"tinfo\">Total: 6, Shown: 6</div></div>"
      ]
     },
     "metadata": {}
    }
   ],
   "metadata": {}
  },
  {
   "cell_type": "code",
   "execution_count": null,
   "source": [
    "DESCRIBE"
   ],
   "outputs": [],
   "metadata": {}
  }
 ],
 "metadata": {
  "kernelspec": {
   "display_name": "SPARQL",
   "language": "sparql",
   "name": "python396jvsc74a57bd04cd7ab41f5fca4b9b44701077e38c5ffd31fe66a6cab21e0214b68d958d0e462"
  },
  "language_info": {
   "codemirror_mode": {
    "name": "sparql"
   },
   "mimetype": "application/sparql-query",
   "name": "sparql",
   "pygments_lexer": "sparql-nb"
  },
  "orig_nbformat": 4
 },
 "nbformat": 4,
 "nbformat_minor": 2
}