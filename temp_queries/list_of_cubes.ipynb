{
 "cells": [
  {
   "cell_type": "code",
   "execution_count": 1,
   "metadata": {},
   "outputs": [
    {
     "data": {
      "text/html": [
       "<div class=\"krn-spql\"><div class=\"magic\">Endpoint set to: https://staging.gss-data.org.uk/sparql</div><div class=\"magic\">Request format: ANY</div><div class=\"magic\">Display: table</div></div>"
      ],
      "text/plain": [
       "Endpoint set to: https://staging.gss-data.org.uk/sparql\n",
       "Request format: ANY\n",
       "Display: table\n"
      ]
     },
     "metadata": {},
     "output_type": "display_data"
    }
   ],
   "source": [
    "%endpoint https://staging.gss-data.org.uk/sparql\n",
    "%format any\n",
    "%display table"
   ]
  },
  {
   "cell_type": "markdown",
   "metadata": {},
   "source": [
    "# Some relational bollocks\n",
    "Though everything here is represented in triplestore, there is a layer ontop of it which surfaces how most SPARQL endpoints speciallising in observational data where all observations are a member of a graph. This graph helps \"tie\" together data better, and is accessed using a SPARQL command `GRAPH <graph url> {query within that graph}`.\n",
    "\n",
    "The graph url can be fetched from another query accessed as a variable, bound (using `BIND`) manually to a variable, or passed directly to the query.\n",
    "\n",
    "## Metadata\n",
    "The metadata is assigned to a catalog url, which has a 1:many relationship.\n",
    "```\n",
    "{catalog url} pmdcat:graph {graph url}\n",
    "{catalog url} dcterms:title {catalog entry title}\n",
    "{catalog url} dcterms:description {catalog entry description}\n",
    "```\n",
    "## Data\n",
    "```\n",
    "{graph url} <http://www.w3.org/ns/prov#wasGeneratedB> {jenkins link}\n",
    "```\n"
   ]
  },
  {
   "cell_type": "code",
   "execution_count": 6,
   "metadata": {},
   "outputs": [
    {
     "data": {
      "text/html": [
       "<div class=\"krn-spql\"><table><tr class=hdr><th>graphUrl</th>\n",
       "<th>catUrl</th>\n",
       "<th>datasetUrl</th>\n",
       "<th>catTitle</th>\n",
       "<th>catDesc</th></tr><tr class=odd><td class=val><a href=\"http://gss-data.org.uk/graph/gss_data/covid-19/ho-statistics-relating-to-covid-19-and-the-immigration-system-may-2020\" target=\"_other\">http://gss-data.org.uk/graph/gss_data/covid-19/ho-statistics-relating-to-covid-19-and-the-immigration-system-may-2020</a></td>\n",
       "<td class=val><a href=\"http://gss-data.org.uk/data/gss_data/covid-19/ho-statistics-relating-to-covid-19-and-the-immigration-system-may-2020-catalog-entry\" target=\"_other\">http://gss-data.org.uk/data/gss_data/covid-19/ho-statistics-relating-to-covid-19-and-the-immigration-system-may-2020-catalog-entry</a></td>\n",
       "<td class=val><a href=\"http://gss-data.org.uk/data/gss_data/covid-19/ho-statistics-relating-to-covid-19-and-the-immigration-system-may-2020#dataset\" target=\"_other\">http://gss-data.org.uk/data/gss_data/covid-19/ho-statistics-relating-to-covid-19-and-the-immigration-system-may-2020#dataset</a></td>\n",
       "<td class=val>Statistics relating to Covid-19 and the immigration system</td>\n",
       "<td class=val>A statistical report showing the impact of Covid-19 on the immigration system, up to April 2020.</td></tr><tr class=even><td class=val><a href=\"http://gss-data.org.uk/graph/gss_data/covid-19/nrs-deaths-involving-coronavirus-covid-19-in-scotland\" target=\"_other\">http://gss-data.org.uk/graph/gss_data/covid-19/nrs-deaths-involving-coronavirus-covid-19-in-scotland</a></td>\n",
       "<td class=val><a href=\"http://gss-data.org.uk/data/gss_data/covid-19/nrs-deaths-involving-coronavirus-covid-19-in-scotland-catalog-entry\" target=\"_other\">http://gss-data.org.uk/data/gss_data/covid-19/nrs-deaths-involving-coronavirus-covid-19-in-scotland-catalog-entry</a></td>\n",
       "<td class=val><a href=\"http://gss-data.org.uk/data/gss_data/covid-19/nrs-deaths-involving-coronavirus-covid-19-in-scotland#dataset\" target=\"_other\">http://gss-data.org.uk/data/gss_data/covid-19/nrs-deaths-involving-coronavirus-covid-19-in-scotland#dataset</a></td>\n",
       "<td class=val>Deaths involving COVID-19 in Scotland</td>\n",
       "<td class=val>Deaths involving coronavirus (COVID-19) in Scotland - Data and Charts.</td></tr><tr class=odd><td class=val><a href=\"http://gss-data.org.uk/graph/gss_data/covid-19/wg-notifications-of-deaths-of-residents-related-to-covid-19-in-adult-care-homes\" target=\"_other\">http://gss-data.org.uk/graph/gss_data/covid-19/wg-notifications-of-deaths-of-residents-related-to-covid-19-in-adult-care-homes</a></td>\n",
       "<td class=val><a href=\"http://gss-data.org.uk/data/gss_data/covid-19/wg-notifications-of-deaths-of-residents-related-to-covid-19-in-adult-care-homes-catalog-entry\" target=\"_other\">http://gss-data.org.uk/data/gss_data/covid-19/wg-notifications-of-deaths-of-residents-related-to-covid-19-in-adult-care-homes-catalog-entry</a></td>\n",
       "<td class=val><a href=\"http://gss-data.org.uk/data/gss_data/covid-19/wg-notifications-of-deaths-of-residents-related-to-covid-19-in-adult-care-homes#dataset\" target=\"_other\">http://gss-data.org.uk/data/gss_data/covid-19/wg-notifications-of-deaths-of-residents-related-to-covid-19-in-adult-care-homes#dataset</a></td>\n",
       "<td class=val>Notifications of deaths of residents related to COVID-19 in adult care homes</td>\n",
       "<td class=val>Notifications to Care Inspectorate Wales of deaths of residents related to COVID-19 in adult care homes during the coronavirus pandemic.</td></tr></table><div class=\"tinfo\">Total: 3, Shown: 3</div></div>"
      ]
     },
     "metadata": {},
     "output_type": "display_data"
    }
   ],
   "source": [
    "PREFIX dcat: <http://www.w3.org/ns/dcat#>\n",
    "PREFIX pmdcat: <http://publishmydata.com/pmdcat#>\n",
    "PREFIX dcterms: <http://purl.org/dc/terms/>\n",
    "PREFIX owl: <http://www.w3.org/2002/07/owl#>\n",
    "PREFIX qb: <http://purl.org/linked-data/cube#>\n",
    "PREFIX rdf: <http://www.w3.org/1999/02/22-rdf-syntax-ns#>\n",
    "PREFIX rdfs: <http://www.w3.org/2000/01/rdf-schema#>\n",
    "PREFIX skos: <http://www.w3.org/2004/02/skos/core#>\n",
    "PREFIX void: <http://rdfs.org/ns/void#>\n",
    "PREFIX xsd: <http://www.w3.org/2001/XMLSchema#>\n",
    "\n",
    "# Select details regarding all datasets, assume that if there's a catalog entry\n",
    "# there is an associated dataset. Might be good to check if the GRAPH exists.\n",
    "\n",
    "SELECT ?graphUrl ?catUrl ?datasetUrl ?catTitle ?catDesc \n",
    "WHERE {\n",
    "\t?catUrl pmdcat:graph ?graphUrl ;\n",
    "              dcterms:title ?catTitle ;\n",
    "              dcterms:description ?catDesc ;\n",
    "              pmdcat:datasetContents ?datasetUrl .\n",
    "\n",
    "}\n",
    "\n",
    "LIMIT 3"
   ]
  },
  {
   "cell_type": "code",
   "execution_count": 10,
   "metadata": {},
   "outputs": [
    {
     "data": {
      "text/html": [
       "<div class=\"krn-spql\"><table><tr class=hdr><th>graphUrl</th>\n",
       "<th>component</th>\n",
       "<th>componentDefinition</th>\n",
       "<th>kind</th>\n",
       "<th>kindDefinition</th></tr><tr class=odd><td class=val><a href=\"http://gss-data.org.uk/graph/gss_data/edvp/ofgem-warm-home-discount-scheme/nationexpenditure\" target=\"_other\">http://gss-data.org.uk/graph/gss_data/edvp/ofgem-warm-home-discount-scheme/nationexpenditure</a></td>\n",
       "<td class=val><a href=\"http://gss-data.org.uk/data/gss_data/edvp/ofgem-warm-home-discount-scheme/nationexpenditure#component/measure_type\" target=\"_other\">http://gss-data.org.uk/data/gss_data/edvp/ofgem-warm-home-discount-scheme/nationexpenditure#component/measure_type</a></td>\n",
       "<td class=val><a href=\"http://purl.org/linked-data/cube#measureType\" target=\"_other\">http://purl.org/linked-data/cube#measureType</a></td>\n",
       "<td class=val><a href=\"http://www.w3.org/1999/02/22-rdf-syntax-ns#type\" target=\"_other\">http://www.w3.org/1999/02/22-rdf-syntax-ns#type</a></td>\n",
       "<td class=val><a href=\"http://purl.org/linked-data/cube#ComponentSpecification\" target=\"_other\">http://purl.org/linked-data/cube#ComponentSpecification</a></td></tr><tr class=even><td class=val><a href=\"http://gss-data.org.uk/graph/gss_data/edvp/ofgem-warm-home-discount-scheme/nationexpenditure\" target=\"_other\">http://gss-data.org.uk/graph/gss_data/edvp/ofgem-warm-home-discount-scheme/nationexpenditure</a></td>\n",
       "<td class=val><a href=\"http://gss-data.org.uk/data/gss_data/edvp/ofgem-warm-home-discount-scheme/nationexpenditure#component/measure_type\" target=\"_other\">http://gss-data.org.uk/data/gss_data/edvp/ofgem-warm-home-discount-scheme/nationexpenditure#component/measure_type</a></td>\n",
       "<td class=val><a href=\"http://purl.org/linked-data/cube#measureType\" target=\"_other\">http://purl.org/linked-data/cube#measureType</a></td>\n",
       "<td class=val><a href=\"http://purl.org/linked-data/cube#componentProperty\" target=\"_other\">http://purl.org/linked-data/cube#componentProperty</a></td>\n",
       "<td class=val><a href=\"http://purl.org/linked-data/cube#measureType\" target=\"_other\">http://purl.org/linked-data/cube#measureType</a></td></tr><tr class=odd><td class=val><a href=\"http://gss-data.org.uk/graph/gss_data/edvp/ofgem-warm-home-discount-scheme/nationexpenditure\" target=\"_other\">http://gss-data.org.uk/graph/gss_data/edvp/ofgem-warm-home-discount-scheme/nationexpenditure</a></td>\n",
       "<td class=val><a href=\"http://gss-data.org.uk/data/gss_data/edvp/ofgem-warm-home-discount-scheme/nationexpenditure#component/measure_type\" target=\"_other\">http://gss-data.org.uk/data/gss_data/edvp/ofgem-warm-home-discount-scheme/nationexpenditure#component/measure_type</a></td>\n",
       "<td class=val><a href=\"http://purl.org/linked-data/cube#measureType\" target=\"_other\">http://purl.org/linked-data/cube#measureType</a></td>\n",
       "<td class=val><a href=\"http://purl.org/linked-data/cube#dimension\" target=\"_other\">http://purl.org/linked-data/cube#dimension</a></td>\n",
       "<td class=val><a href=\"http://purl.org/linked-data/cube#measureType\" target=\"_other\">http://purl.org/linked-data/cube#measureType</a></td></tr><tr class=even><td class=val><a href=\"http://gss-data.org.uk/graph/gss_data/edvp/ofgem-warm-home-discount-scheme/nationexpenditure\" target=\"_other\">http://gss-data.org.uk/graph/gss_data/edvp/ofgem-warm-home-discount-scheme/nationexpenditure</a></td>\n",
       "<td class=val><a href=\"http://gss-data.org.uk/data/gss_data/edvp/ofgem-warm-home-discount-scheme/nationexpenditure#component/nation\" target=\"_other\">http://gss-data.org.uk/data/gss_data/edvp/ofgem-warm-home-discount-scheme/nationexpenditure#component/nation</a></td>\n",
       "<td class=val><a href=\"http://gss-data.org.uk/data/gss_data/edvp/ofgem-warm-home-discount-scheme/nationexpenditure#dimension/nation\" target=\"_other\">http://gss-data.org.uk/data/gss_data/edvp/ofgem-warm-home-discount-scheme/nationexpenditure#dimension/nation</a></td>\n",
       "<td class=val><a href=\"http://www.w3.org/1999/02/22-rdf-syntax-ns#type\" target=\"_other\">http://www.w3.org/1999/02/22-rdf-syntax-ns#type</a></td>\n",
       "<td class=val><a href=\"http://purl.org/linked-data/cube#ComponentSpecification\" target=\"_other\">http://purl.org/linked-data/cube#ComponentSpecification</a></td></tr><tr class=odd><td class=val><a href=\"http://gss-data.org.uk/graph/gss_data/edvp/ofgem-warm-home-discount-scheme/nationexpenditure\" target=\"_other\">http://gss-data.org.uk/graph/gss_data/edvp/ofgem-warm-home-discount-scheme/nationexpenditure</a></td>\n",
       "<td class=val><a href=\"http://gss-data.org.uk/data/gss_data/edvp/ofgem-warm-home-discount-scheme/nationexpenditure#component/nation\" target=\"_other\">http://gss-data.org.uk/data/gss_data/edvp/ofgem-warm-home-discount-scheme/nationexpenditure#component/nation</a></td>\n",
       "<td class=val><a href=\"http://gss-data.org.uk/data/gss_data/edvp/ofgem-warm-home-discount-scheme/nationexpenditure#dimension/nation\" target=\"_other\">http://gss-data.org.uk/data/gss_data/edvp/ofgem-warm-home-discount-scheme/nationexpenditure#dimension/nation</a></td>\n",
       "<td class=val><a href=\"http://purl.org/linked-data/cube#componentProperty\" target=\"_other\">http://purl.org/linked-data/cube#componentProperty</a></td>\n",
       "<td class=val><a href=\"http://gss-data.org.uk/data/gss_data/edvp/ofgem-warm-home-discount-scheme/nationexpenditure#dimension/nation\" target=\"_other\">http://gss-data.org.uk/data/gss_data/edvp/ofgem-warm-home-discount-scheme/nationexpenditure#dimension/nation</a></td></tr><tr class=even><td class=val><a href=\"http://gss-data.org.uk/graph/gss_data/edvp/ofgem-warm-home-discount-scheme/nationexpenditure\" target=\"_other\">http://gss-data.org.uk/graph/gss_data/edvp/ofgem-warm-home-discount-scheme/nationexpenditure</a></td>\n",
       "<td class=val><a href=\"http://gss-data.org.uk/data/gss_data/edvp/ofgem-warm-home-discount-scheme/nationexpenditure#component/nation\" target=\"_other\">http://gss-data.org.uk/data/gss_data/edvp/ofgem-warm-home-discount-scheme/nationexpenditure#component/nation</a></td>\n",
       "<td class=val><a href=\"http://gss-data.org.uk/data/gss_data/edvp/ofgem-warm-home-discount-scheme/nationexpenditure#dimension/nation\" target=\"_other\">http://gss-data.org.uk/data/gss_data/edvp/ofgem-warm-home-discount-scheme/nationexpenditure#dimension/nation</a></td>\n",
       "<td class=val><a href=\"http://purl.org/linked-data/cube#dimension\" target=\"_other\">http://purl.org/linked-data/cube#dimension</a></td>\n",
       "<td class=val><a href=\"http://gss-data.org.uk/data/gss_data/edvp/ofgem-warm-home-discount-scheme/nationexpenditure#dimension/nation\" target=\"_other\">http://gss-data.org.uk/data/gss_data/edvp/ofgem-warm-home-discount-scheme/nationexpenditure#dimension/nation</a></td></tr><tr class=odd><td class=val><a href=\"http://gss-data.org.uk/graph/gss_data/edvp/ofgem-warm-home-discount-scheme/nationexpenditure\" target=\"_other\">http://gss-data.org.uk/graph/gss_data/edvp/ofgem-warm-home-discount-scheme/nationexpenditure</a></td>\n",
       "<td class=val><a href=\"http://gss-data.org.uk/data/gss_data/edvp/ofgem-warm-home-discount-scheme/nationexpenditure#component/period\" target=\"_other\">http://gss-data.org.uk/data/gss_data/edvp/ofgem-warm-home-discount-scheme/nationexpenditure#component/period</a></td>\n",
       "<td class=val><a href=\"http://gss-data.org.uk/data/gss_data/edvp/ofgem-warm-home-discount-scheme/nationexpenditure#dimension/period\" target=\"_other\">http://gss-data.org.uk/data/gss_data/edvp/ofgem-warm-home-discount-scheme/nationexpenditure#dimension/period</a></td>\n",
       "<td class=val><a href=\"http://www.w3.org/1999/02/22-rdf-syntax-ns#type\" target=\"_other\">http://www.w3.org/1999/02/22-rdf-syntax-ns#type</a></td>\n",
       "<td class=val><a href=\"http://purl.org/linked-data/cube#ComponentSpecification\" target=\"_other\">http://purl.org/linked-data/cube#ComponentSpecification</a></td></tr><tr class=even><td class=val><a href=\"http://gss-data.org.uk/graph/gss_data/edvp/ofgem-warm-home-discount-scheme/nationexpenditure\" target=\"_other\">http://gss-data.org.uk/graph/gss_data/edvp/ofgem-warm-home-discount-scheme/nationexpenditure</a></td>\n",
       "<td class=val><a href=\"http://gss-data.org.uk/data/gss_data/edvp/ofgem-warm-home-discount-scheme/nationexpenditure#component/period\" target=\"_other\">http://gss-data.org.uk/data/gss_data/edvp/ofgem-warm-home-discount-scheme/nationexpenditure#component/period</a></td>\n",
       "<td class=val><a href=\"http://gss-data.org.uk/data/gss_data/edvp/ofgem-warm-home-discount-scheme/nationexpenditure#dimension/period\" target=\"_other\">http://gss-data.org.uk/data/gss_data/edvp/ofgem-warm-home-discount-scheme/nationexpenditure#dimension/period</a></td>\n",
       "<td class=val><a href=\"http://purl.org/linked-data/cube#componentProperty\" target=\"_other\">http://purl.org/linked-data/cube#componentProperty</a></td>\n",
       "<td class=val><a href=\"http://gss-data.org.uk/data/gss_data/edvp/ofgem-warm-home-discount-scheme/nationexpenditure#dimension/period\" target=\"_other\">http://gss-data.org.uk/data/gss_data/edvp/ofgem-warm-home-discount-scheme/nationexpenditure#dimension/period</a></td></tr><tr class=odd><td class=val><a href=\"http://gss-data.org.uk/graph/gss_data/edvp/ofgem-warm-home-discount-scheme/nationexpenditure\" target=\"_other\">http://gss-data.org.uk/graph/gss_data/edvp/ofgem-warm-home-discount-scheme/nationexpenditure</a></td>\n",
       "<td class=val><a href=\"http://gss-data.org.uk/data/gss_data/edvp/ofgem-warm-home-discount-scheme/nationexpenditure#component/period\" target=\"_other\">http://gss-data.org.uk/data/gss_data/edvp/ofgem-warm-home-discount-scheme/nationexpenditure#component/period</a></td>\n",
       "<td class=val><a href=\"http://gss-data.org.uk/data/gss_data/edvp/ofgem-warm-home-discount-scheme/nationexpenditure#dimension/period\" target=\"_other\">http://gss-data.org.uk/data/gss_data/edvp/ofgem-warm-home-discount-scheme/nationexpenditure#dimension/period</a></td>\n",
       "<td class=val><a href=\"http://purl.org/linked-data/cube#dimension\" target=\"_other\">http://purl.org/linked-data/cube#dimension</a></td>\n",
       "<td class=val><a href=\"http://gss-data.org.uk/data/gss_data/edvp/ofgem-warm-home-discount-scheme/nationexpenditure#dimension/period\" target=\"_other\">http://gss-data.org.uk/data/gss_data/edvp/ofgem-warm-home-discount-scheme/nationexpenditure#dimension/period</a></td></tr><tr class=even><td class=val><a href=\"http://gss-data.org.uk/graph/gss_data/edvp/ofgem-warm-home-discount-scheme/nationexpenditure\" target=\"_other\">http://gss-data.org.uk/graph/gss_data/edvp/ofgem-warm-home-discount-scheme/nationexpenditure</a></td>\n",
       "<td class=val><a href=\"http://gss-data.org.uk/data/gss_data/edvp/ofgem-warm-home-discount-scheme/nationexpenditure#component/scheme-year\" target=\"_other\">http://gss-data.org.uk/data/gss_data/edvp/ofgem-warm-home-discount-scheme/nationexpenditure#component/scheme-year</a></td>\n",
       "<td class=val><a href=\"http://gss-data.org.uk/data/gss_data/edvp/ofgem-warm-home-discount-scheme/nationexpenditure#dimension/scheme-year\" target=\"_other\">http://gss-data.org.uk/data/gss_data/edvp/ofgem-warm-home-discount-scheme/nationexpenditure#dimension/scheme-year</a></td>\n",
       "<td class=val><a href=\"http://www.w3.org/1999/02/22-rdf-syntax-ns#type\" target=\"_other\">http://www.w3.org/1999/02/22-rdf-syntax-ns#type</a></td>\n",
       "<td class=val><a href=\"http://purl.org/linked-data/cube#ComponentSpecification\" target=\"_other\">http://purl.org/linked-data/cube#ComponentSpecification</a></td></tr><tr class=odd><td class=val><a href=\"http://gss-data.org.uk/graph/gss_data/edvp/ofgem-warm-home-discount-scheme/nationexpenditure\" target=\"_other\">http://gss-data.org.uk/graph/gss_data/edvp/ofgem-warm-home-discount-scheme/nationexpenditure</a></td>\n",
       "<td class=val><a href=\"http://gss-data.org.uk/data/gss_data/edvp/ofgem-warm-home-discount-scheme/nationexpenditure#component/scheme-year\" target=\"_other\">http://gss-data.org.uk/data/gss_data/edvp/ofgem-warm-home-discount-scheme/nationexpenditure#component/scheme-year</a></td>\n",
       "<td class=val><a href=\"http://gss-data.org.uk/data/gss_data/edvp/ofgem-warm-home-discount-scheme/nationexpenditure#dimension/scheme-year\" target=\"_other\">http://gss-data.org.uk/data/gss_data/edvp/ofgem-warm-home-discount-scheme/nationexpenditure#dimension/scheme-year</a></td>\n",
       "<td class=val><a href=\"http://purl.org/linked-data/cube#componentProperty\" target=\"_other\">http://purl.org/linked-data/cube#componentProperty</a></td>\n",
       "<td class=val><a href=\"http://gss-data.org.uk/data/gss_data/edvp/ofgem-warm-home-discount-scheme/nationexpenditure#dimension/scheme-year\" target=\"_other\">http://gss-data.org.uk/data/gss_data/edvp/ofgem-warm-home-discount-scheme/nationexpenditure#dimension/scheme-year</a></td></tr><tr class=even><td class=val><a href=\"http://gss-data.org.uk/graph/gss_data/edvp/ofgem-warm-home-discount-scheme/nationexpenditure\" target=\"_other\">http://gss-data.org.uk/graph/gss_data/edvp/ofgem-warm-home-discount-scheme/nationexpenditure</a></td>\n",
       "<td class=val><a href=\"http://gss-data.org.uk/data/gss_data/edvp/ofgem-warm-home-discount-scheme/nationexpenditure#component/scheme-year\" target=\"_other\">http://gss-data.org.uk/data/gss_data/edvp/ofgem-warm-home-discount-scheme/nationexpenditure#component/scheme-year</a></td>\n",
       "<td class=val><a href=\"http://gss-data.org.uk/data/gss_data/edvp/ofgem-warm-home-discount-scheme/nationexpenditure#dimension/scheme-year\" target=\"_other\">http://gss-data.org.uk/data/gss_data/edvp/ofgem-warm-home-discount-scheme/nationexpenditure#dimension/scheme-year</a></td>\n",
       "<td class=val><a href=\"http://purl.org/linked-data/cube#dimension\" target=\"_other\">http://purl.org/linked-data/cube#dimension</a></td>\n",
       "<td class=val><a href=\"http://gss-data.org.uk/data/gss_data/edvp/ofgem-warm-home-discount-scheme/nationexpenditure#dimension/scheme-year\" target=\"_other\">http://gss-data.org.uk/data/gss_data/edvp/ofgem-warm-home-discount-scheme/nationexpenditure#dimension/scheme-year</a></td></tr><tr class=odd><td class=val><a href=\"http://gss-data.org.uk/graph/gss_data/edvp/ofgem-warm-home-discount-scheme/nationexpenditure\" target=\"_other\">http://gss-data.org.uk/graph/gss_data/edvp/ofgem-warm-home-discount-scheme/nationexpenditure</a></td>\n",
       "<td class=val><a href=\"http://gss-data.org.uk/data/gss_data/edvp/ofgem-warm-home-discount-scheme/nationexpenditure#component/unit\" target=\"_other\">http://gss-data.org.uk/data/gss_data/edvp/ofgem-warm-home-discount-scheme/nationexpenditure#component/unit</a></td>\n",
       "<td class=val><a href=\"http://purl.org/linked-data/sdmx/2009/attribute#unitMeasure\" target=\"_other\">http://purl.org/linked-data/sdmx/2009/attribute#unitMeasure</a></td>\n",
       "<td class=val><a href=\"http://www.w3.org/1999/02/22-rdf-syntax-ns#type\" target=\"_other\">http://www.w3.org/1999/02/22-rdf-syntax-ns#type</a></td>\n",
       "<td class=val><a href=\"http://purl.org/linked-data/cube#ComponentSpecification\" target=\"_other\">http://purl.org/linked-data/cube#ComponentSpecification</a></td></tr><tr class=even><td class=val><a href=\"http://gss-data.org.uk/graph/gss_data/edvp/ofgem-warm-home-discount-scheme/nationexpenditure\" target=\"_other\">http://gss-data.org.uk/graph/gss_data/edvp/ofgem-warm-home-discount-scheme/nationexpenditure</a></td>\n",
       "<td class=val><a href=\"http://gss-data.org.uk/data/gss_data/edvp/ofgem-warm-home-discount-scheme/nationexpenditure#component/unit\" target=\"_other\">http://gss-data.org.uk/data/gss_data/edvp/ofgem-warm-home-discount-scheme/nationexpenditure#component/unit</a></td>\n",
       "<td class=val><a href=\"http://purl.org/linked-data/sdmx/2009/attribute#unitMeasure\" target=\"_other\">http://purl.org/linked-data/sdmx/2009/attribute#unitMeasure</a></td>\n",
       "<td class=val><a href=\"http://purl.org/linked-data/cube#componentProperty\" target=\"_other\">http://purl.org/linked-data/cube#componentProperty</a></td>\n",
       "<td class=val><a href=\"http://purl.org/linked-data/sdmx/2009/attribute#unitMeasure\" target=\"_other\">http://purl.org/linked-data/sdmx/2009/attribute#unitMeasure</a></td></tr><tr class=odd><td class=val><a href=\"http://gss-data.org.uk/graph/gss_data/edvp/ofgem-warm-home-discount-scheme/nationexpenditure\" target=\"_other\">http://gss-data.org.uk/graph/gss_data/edvp/ofgem-warm-home-discount-scheme/nationexpenditure</a></td>\n",
       "<td class=val><a href=\"http://gss-data.org.uk/data/gss_data/edvp/ofgem-warm-home-discount-scheme/nationexpenditure#component/unit\" target=\"_other\">http://gss-data.org.uk/data/gss_data/edvp/ofgem-warm-home-discount-scheme/nationexpenditure#component/unit</a></td>\n",
       "<td class=val><a href=\"http://purl.org/linked-data/sdmx/2009/attribute#unitMeasure\" target=\"_other\">http://purl.org/linked-data/sdmx/2009/attribute#unitMeasure</a></td>\n",
       "<td class=val><a href=\"http://purl.org/linked-data/cube#attribute\" target=\"_other\">http://purl.org/linked-data/cube#attribute</a></td>\n",
       "<td class=val><a href=\"http://purl.org/linked-data/sdmx/2009/attribute#unitMeasure\" target=\"_other\">http://purl.org/linked-data/sdmx/2009/attribute#unitMeasure</a></td></tr><tr class=even><td class=val><a href=\"http://gss-data.org.uk/graph/gss_data/edvp/ofgem-warm-home-discount-scheme/nationexpenditure\" target=\"_other\">http://gss-data.org.uk/graph/gss_data/edvp/ofgem-warm-home-discount-scheme/nationexpenditure</a></td>\n",
       "<td class=val><a href=\"http://gss-data.org.uk/data/gss_data/edvp/ofgem-warm-home-discount-scheme/nationexpenditure#component/value\" target=\"_other\">http://gss-data.org.uk/data/gss_data/edvp/ofgem-warm-home-discount-scheme/nationexpenditure#component/value</a></td>\n",
       "<td class=val><a href=\"http://gss-data.org.uk/def/measure/expenditure\" target=\"_other\">http://gss-data.org.uk/def/measure/expenditure</a></td>\n",
       "<td class=val><a href=\"http://www.w3.org/1999/02/22-rdf-syntax-ns#type\" target=\"_other\">http://www.w3.org/1999/02/22-rdf-syntax-ns#type</a></td>\n",
       "<td class=val><a href=\"http://purl.org/linked-data/cube#ComponentSpecification\" target=\"_other\">http://purl.org/linked-data/cube#ComponentSpecification</a></td></tr><tr class=odd><td class=val><a href=\"http://gss-data.org.uk/graph/gss_data/edvp/ofgem-warm-home-discount-scheme/nationexpenditure\" target=\"_other\">http://gss-data.org.uk/graph/gss_data/edvp/ofgem-warm-home-discount-scheme/nationexpenditure</a></td>\n",
       "<td class=val><a href=\"http://gss-data.org.uk/data/gss_data/edvp/ofgem-warm-home-discount-scheme/nationexpenditure#component/value\" target=\"_other\">http://gss-data.org.uk/data/gss_data/edvp/ofgem-warm-home-discount-scheme/nationexpenditure#component/value</a></td>\n",
       "<td class=val><a href=\"http://gss-data.org.uk/def/measure/expenditure\" target=\"_other\">http://gss-data.org.uk/def/measure/expenditure</a></td>\n",
       "<td class=val><a href=\"http://purl.org/linked-data/cube#componentProperty\" target=\"_other\">http://purl.org/linked-data/cube#componentProperty</a></td>\n",
       "<td class=val><a href=\"http://gss-data.org.uk/def/measure/expenditure\" target=\"_other\">http://gss-data.org.uk/def/measure/expenditure</a></td></tr><tr class=even><td class=val><a href=\"http://gss-data.org.uk/graph/gss_data/edvp/ofgem-warm-home-discount-scheme/nationexpenditure\" target=\"_other\">http://gss-data.org.uk/graph/gss_data/edvp/ofgem-warm-home-discount-scheme/nationexpenditure</a></td>\n",
       "<td class=val><a href=\"http://gss-data.org.uk/data/gss_data/edvp/ofgem-warm-home-discount-scheme/nationexpenditure#component/value\" target=\"_other\">http://gss-data.org.uk/data/gss_data/edvp/ofgem-warm-home-discount-scheme/nationexpenditure#component/value</a></td>\n",
       "<td class=val><a href=\"http://gss-data.org.uk/def/measure/expenditure\" target=\"_other\">http://gss-data.org.uk/def/measure/expenditure</a></td>\n",
       "<td class=val><a href=\"http://purl.org/linked-data/cube#measure\" target=\"_other\">http://purl.org/linked-data/cube#measure</a></td>\n",
       "<td class=val><a href=\"http://gss-data.org.uk/def/measure/expenditure\" target=\"_other\">http://gss-data.org.uk/def/measure/expenditure</a></td></tr></table><div class=\"tinfo\">Total: 18, Shown: 18</div></div>"
      ]
     },
     "metadata": {},
     "output_type": "display_data"
    }
   ],
   "source": [
    "PREFIX dcat: <http://www.w3.org/ns/dcat#>\n",
    "PREFIX pmdcat: <http://publishmydata.com/pmdcat#>\n",
    "PREFIX dcterms: <http://purl.org/dc/terms/>\n",
    "PREFIX owl: <http://www.w3.org/2002/07/owl#>\n",
    "PREFIX qb: <http://purl.org/linked-data/cube#>\n",
    "PREFIX rdf: <http://www.w3.org/1999/02/22-rdf-syntax-ns#>\n",
    "PREFIX rdfs: <http://www.w3.org/2000/01/rdf-schema#>\n",
    "PREFIX skos: <http://www.w3.org/2004/02/skos/core#>\n",
    "PREFIX void: <http://rdfs.org/ns/void#>\n",
    "PREFIX xsd: <http://www.w3.org/2001/XMLSchema#>\n",
    "\n",
    "# For a given cube's graph, select its dimensions\n",
    "\n",
    "SELECT ?graphUrl ?component ?componentDefinition ?kind ?kindDefinition\n",
    "WHERE {\n",
    "    BIND(<http://gss-data.org.uk/graph/gss_data/edvp/ofgem-warm-home-discount-scheme/nationexpenditure> as ?graphUrl) .\n",
    "    GRAPH  ?graphUrl {\n",
    "        ?component qb:componentProperty ?componentDefinition ;\n",
    "                   ?kind ?kindDefinition .\n",
    "    }\n",
    "\n",
    "}\n"
   ]
  },
  {
   "cell_type": "code",
   "execution_count": null,
   "metadata": {},
   "outputs": [],
   "source": []
  }
 ],
 "metadata": {
  "kernelspec": {
   "display_name": "SPARQL",
   "language": "sparql",
   "name": "sparql"
  },
  "language_info": {
   "codemirror_mode": {
    "name": "sparql"
   },
   "mimetype": "application/sparql-query",
   "name": "sparql",
   "pygments_lexer": "sparql-nb"
  },
  "orig_nbformat": 2
 },
 "nbformat": 4,
 "nbformat_minor": 2
}